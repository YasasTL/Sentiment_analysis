{
  "nbformat": 4,
  "nbformat_minor": 0,
  "metadata": {
    "colab": {
      "provenance": [],
      "mount_file_id": "1859NsooyAQxna2Vsw5TlgGzGwUX1T7Wy",
      "authorship_tag": "ABX9TyM6DGY3dOPJ+nYaIMi+Wu6W",
      "include_colab_link": true
    },
    "kernelspec": {
      "name": "python3",
      "display_name": "Python 3"
    },
    "language_info": {
      "name": "python"
    }
  },
  "cells": [
    {
      "cell_type": "markdown",
      "metadata": {
        "id": "view-in-github",
        "colab_type": "text"
      },
      "source": [
        "<a href=\"https://colab.research.google.com/github/YasasTL/Sentiment_analysis/blob/main/sentiment_analysis.ipynb\" target=\"_parent\"><img src=\"https://colab.research.google.com/assets/colab-badge.svg\" alt=\"Open In Colab\"/></a>"
      ]
    },
    {
      "cell_type": "code",
      "source": [
        "import numpy as np\n",
        "import pandas as pd\n",
        "import matplotlib.pyplot as plt"
      ],
      "metadata": {
        "id": "Z7sUPI1i_XrY"
      },
      "execution_count": null,
      "outputs": []
    },
    {
      "cell_type": "code",
      "source": [
        "data=pd.read_csv('/content/drive/MyDrive/sentiment_analysis.csv')"
      ],
      "metadata": {
        "id": "XZcwAiBt_xiL"
      },
      "execution_count": null,
      "outputs": []
    },
    {
      "cell_type": "code",
      "source": [
        "data.head(5)"
      ],
      "metadata": {
        "colab": {
          "base_uri": "https://localhost:8080/",
          "height": 206
        },
        "id": "ODwCeXCC_4TA",
        "outputId": "442b1956-634d-455b-ca8e-d70d0442be3b"
      },
      "execution_count": null,
      "outputs": [
        {
          "output_type": "execute_result",
          "data": {
            "text/plain": [
              "   id  label                                              tweet\n",
              "0   1      0  #fingerprint #Pregnancy Test https://goo.gl/h1...\n",
              "1   2      0  Finally a transparant silicon case ^^ Thanks t...\n",
              "2   3      0  We love this! Would you go? #talk #makememorie...\n",
              "3   4      0  I'm wired I know I'm George I was made that wa...\n",
              "4   5      1  What amazing service! Apple won't even talk to..."
            ],
            "text/html": [
              "\n",
              "  <div id=\"df-f4008f42-0d0e-4b52-a302-cc92d2194765\" class=\"colab-df-container\">\n",
              "    <div>\n",
              "<style scoped>\n",
              "    .dataframe tbody tr th:only-of-type {\n",
              "        vertical-align: middle;\n",
              "    }\n",
              "\n",
              "    .dataframe tbody tr th {\n",
              "        vertical-align: top;\n",
              "    }\n",
              "\n",
              "    .dataframe thead th {\n",
              "        text-align: right;\n",
              "    }\n",
              "</style>\n",
              "<table border=\"1\" class=\"dataframe\">\n",
              "  <thead>\n",
              "    <tr style=\"text-align: right;\">\n",
              "      <th></th>\n",
              "      <th>id</th>\n",
              "      <th>label</th>\n",
              "      <th>tweet</th>\n",
              "    </tr>\n",
              "  </thead>\n",
              "  <tbody>\n",
              "    <tr>\n",
              "      <th>0</th>\n",
              "      <td>1</td>\n",
              "      <td>0</td>\n",
              "      <td>#fingerprint #Pregnancy Test https://goo.gl/h1...</td>\n",
              "    </tr>\n",
              "    <tr>\n",
              "      <th>1</th>\n",
              "      <td>2</td>\n",
              "      <td>0</td>\n",
              "      <td>Finally a transparant silicon case ^^ Thanks t...</td>\n",
              "    </tr>\n",
              "    <tr>\n",
              "      <th>2</th>\n",
              "      <td>3</td>\n",
              "      <td>0</td>\n",
              "      <td>We love this! Would you go? #talk #makememorie...</td>\n",
              "    </tr>\n",
              "    <tr>\n",
              "      <th>3</th>\n",
              "      <td>4</td>\n",
              "      <td>0</td>\n",
              "      <td>I'm wired I know I'm George I was made that wa...</td>\n",
              "    </tr>\n",
              "    <tr>\n",
              "      <th>4</th>\n",
              "      <td>5</td>\n",
              "      <td>1</td>\n",
              "      <td>What amazing service! Apple won't even talk to...</td>\n",
              "    </tr>\n",
              "  </tbody>\n",
              "</table>\n",
              "</div>\n",
              "    <div class=\"colab-df-buttons\">\n",
              "\n",
              "  <div class=\"colab-df-container\">\n",
              "    <button class=\"colab-df-convert\" onclick=\"convertToInteractive('df-f4008f42-0d0e-4b52-a302-cc92d2194765')\"\n",
              "            title=\"Convert this dataframe to an interactive table.\"\n",
              "            style=\"display:none;\">\n",
              "\n",
              "  <svg xmlns=\"http://www.w3.org/2000/svg\" height=\"24px\" viewBox=\"0 -960 960 960\">\n",
              "    <path d=\"M120-120v-720h720v720H120Zm60-500h600v-160H180v160Zm220 220h160v-160H400v160Zm0 220h160v-160H400v160ZM180-400h160v-160H180v160Zm440 0h160v-160H620v160ZM180-180h160v-160H180v160Zm440 0h160v-160H620v160Z\"/>\n",
              "  </svg>\n",
              "    </button>\n",
              "\n",
              "  <style>\n",
              "    .colab-df-container {\n",
              "      display:flex;\n",
              "      gap: 12px;\n",
              "    }\n",
              "\n",
              "    .colab-df-convert {\n",
              "      background-color: #E8F0FE;\n",
              "      border: none;\n",
              "      border-radius: 50%;\n",
              "      cursor: pointer;\n",
              "      display: none;\n",
              "      fill: #1967D2;\n",
              "      height: 32px;\n",
              "      padding: 0 0 0 0;\n",
              "      width: 32px;\n",
              "    }\n",
              "\n",
              "    .colab-df-convert:hover {\n",
              "      background-color: #E2EBFA;\n",
              "      box-shadow: 0px 1px 2px rgba(60, 64, 67, 0.3), 0px 1px 3px 1px rgba(60, 64, 67, 0.15);\n",
              "      fill: #174EA6;\n",
              "    }\n",
              "\n",
              "    .colab-df-buttons div {\n",
              "      margin-bottom: 4px;\n",
              "    }\n",
              "\n",
              "    [theme=dark] .colab-df-convert {\n",
              "      background-color: #3B4455;\n",
              "      fill: #D2E3FC;\n",
              "    }\n",
              "\n",
              "    [theme=dark] .colab-df-convert:hover {\n",
              "      background-color: #434B5C;\n",
              "      box-shadow: 0px 1px 3px 1px rgba(0, 0, 0, 0.15);\n",
              "      filter: drop-shadow(0px 1px 2px rgba(0, 0, 0, 0.3));\n",
              "      fill: #FFFFFF;\n",
              "    }\n",
              "  </style>\n",
              "\n",
              "    <script>\n",
              "      const buttonEl =\n",
              "        document.querySelector('#df-f4008f42-0d0e-4b52-a302-cc92d2194765 button.colab-df-convert');\n",
              "      buttonEl.style.display =\n",
              "        google.colab.kernel.accessAllowed ? 'block' : 'none';\n",
              "\n",
              "      async function convertToInteractive(key) {\n",
              "        const element = document.querySelector('#df-f4008f42-0d0e-4b52-a302-cc92d2194765');\n",
              "        const dataTable =\n",
              "          await google.colab.kernel.invokeFunction('convertToInteractive',\n",
              "                                                    [key], {});\n",
              "        if (!dataTable) return;\n",
              "\n",
              "        const docLinkHtml = 'Like what you see? Visit the ' +\n",
              "          '<a target=\"_blank\" href=https://colab.research.google.com/notebooks/data_table.ipynb>data table notebook</a>'\n",
              "          + ' to learn more about interactive tables.';\n",
              "        element.innerHTML = '';\n",
              "        dataTable['output_type'] = 'display_data';\n",
              "        await google.colab.output.renderOutput(dataTable, element);\n",
              "        const docLink = document.createElement('div');\n",
              "        docLink.innerHTML = docLinkHtml;\n",
              "        element.appendChild(docLink);\n",
              "      }\n",
              "    </script>\n",
              "  </div>\n",
              "\n",
              "\n",
              "<div id=\"df-7489c2ba-76e8-4b00-8aed-f189648a26ae\">\n",
              "  <button class=\"colab-df-quickchart\" onclick=\"quickchart('df-7489c2ba-76e8-4b00-8aed-f189648a26ae')\"\n",
              "            title=\"Suggest charts\"\n",
              "            style=\"display:none;\">\n",
              "\n",
              "<svg xmlns=\"http://www.w3.org/2000/svg\" height=\"24px\"viewBox=\"0 0 24 24\"\n",
              "     width=\"24px\">\n",
              "    <g>\n",
              "        <path d=\"M19 3H5c-1.1 0-2 .9-2 2v14c0 1.1.9 2 2 2h14c1.1 0 2-.9 2-2V5c0-1.1-.9-2-2-2zM9 17H7v-7h2v7zm4 0h-2V7h2v10zm4 0h-2v-4h2v4z\"/>\n",
              "    </g>\n",
              "</svg>\n",
              "  </button>\n",
              "\n",
              "<style>\n",
              "  .colab-df-quickchart {\n",
              "      --bg-color: #E8F0FE;\n",
              "      --fill-color: #1967D2;\n",
              "      --hover-bg-color: #E2EBFA;\n",
              "      --hover-fill-color: #174EA6;\n",
              "      --disabled-fill-color: #AAA;\n",
              "      --disabled-bg-color: #DDD;\n",
              "  }\n",
              "\n",
              "  [theme=dark] .colab-df-quickchart {\n",
              "      --bg-color: #3B4455;\n",
              "      --fill-color: #D2E3FC;\n",
              "      --hover-bg-color: #434B5C;\n",
              "      --hover-fill-color: #FFFFFF;\n",
              "      --disabled-bg-color: #3B4455;\n",
              "      --disabled-fill-color: #666;\n",
              "  }\n",
              "\n",
              "  .colab-df-quickchart {\n",
              "    background-color: var(--bg-color);\n",
              "    border: none;\n",
              "    border-radius: 50%;\n",
              "    cursor: pointer;\n",
              "    display: none;\n",
              "    fill: var(--fill-color);\n",
              "    height: 32px;\n",
              "    padding: 0;\n",
              "    width: 32px;\n",
              "  }\n",
              "\n",
              "  .colab-df-quickchart:hover {\n",
              "    background-color: var(--hover-bg-color);\n",
              "    box-shadow: 0 1px 2px rgba(60, 64, 67, 0.3), 0 1px 3px 1px rgba(60, 64, 67, 0.15);\n",
              "    fill: var(--button-hover-fill-color);\n",
              "  }\n",
              "\n",
              "  .colab-df-quickchart-complete:disabled,\n",
              "  .colab-df-quickchart-complete:disabled:hover {\n",
              "    background-color: var(--disabled-bg-color);\n",
              "    fill: var(--disabled-fill-color);\n",
              "    box-shadow: none;\n",
              "  }\n",
              "\n",
              "  .colab-df-spinner {\n",
              "    border: 2px solid var(--fill-color);\n",
              "    border-color: transparent;\n",
              "    border-bottom-color: var(--fill-color);\n",
              "    animation:\n",
              "      spin 1s steps(1) infinite;\n",
              "  }\n",
              "\n",
              "  @keyframes spin {\n",
              "    0% {\n",
              "      border-color: transparent;\n",
              "      border-bottom-color: var(--fill-color);\n",
              "      border-left-color: var(--fill-color);\n",
              "    }\n",
              "    20% {\n",
              "      border-color: transparent;\n",
              "      border-left-color: var(--fill-color);\n",
              "      border-top-color: var(--fill-color);\n",
              "    }\n",
              "    30% {\n",
              "      border-color: transparent;\n",
              "      border-left-color: var(--fill-color);\n",
              "      border-top-color: var(--fill-color);\n",
              "      border-right-color: var(--fill-color);\n",
              "    }\n",
              "    40% {\n",
              "      border-color: transparent;\n",
              "      border-right-color: var(--fill-color);\n",
              "      border-top-color: var(--fill-color);\n",
              "    }\n",
              "    60% {\n",
              "      border-color: transparent;\n",
              "      border-right-color: var(--fill-color);\n",
              "    }\n",
              "    80% {\n",
              "      border-color: transparent;\n",
              "      border-right-color: var(--fill-color);\n",
              "      border-bottom-color: var(--fill-color);\n",
              "    }\n",
              "    90% {\n",
              "      border-color: transparent;\n",
              "      border-bottom-color: var(--fill-color);\n",
              "    }\n",
              "  }\n",
              "</style>\n",
              "\n",
              "  <script>\n",
              "    async function quickchart(key) {\n",
              "      const quickchartButtonEl =\n",
              "        document.querySelector('#' + key + ' button');\n",
              "      quickchartButtonEl.disabled = true;  // To prevent multiple clicks.\n",
              "      quickchartButtonEl.classList.add('colab-df-spinner');\n",
              "      try {\n",
              "        const charts = await google.colab.kernel.invokeFunction(\n",
              "            'suggestCharts', [key], {});\n",
              "      } catch (error) {\n",
              "        console.error('Error during call to suggestCharts:', error);\n",
              "      }\n",
              "      quickchartButtonEl.classList.remove('colab-df-spinner');\n",
              "      quickchartButtonEl.classList.add('colab-df-quickchart-complete');\n",
              "    }\n",
              "    (() => {\n",
              "      let quickchartButtonEl =\n",
              "        document.querySelector('#df-7489c2ba-76e8-4b00-8aed-f189648a26ae button');\n",
              "      quickchartButtonEl.style.display =\n",
              "        google.colab.kernel.accessAllowed ? 'block' : 'none';\n",
              "    })();\n",
              "  </script>\n",
              "</div>\n",
              "    </div>\n",
              "  </div>\n"
            ]
          },
          "metadata": {},
          "execution_count": 4
        }
      ]
    },
    {
      "cell_type": "markdown",
      "source": [
        "## Data Preprocessing"
      ],
      "metadata": {
        "id": "X5mXUdRHAurJ"
      }
    },
    {
      "cell_type": "code",
      "source": [
        "data.shape"
      ],
      "metadata": {
        "colab": {
          "base_uri": "https://localhost:8080/"
        },
        "id": "b3VJLScBAztr",
        "outputId": "34263893-cd74-407e-9931-5d02022b0554"
      },
      "execution_count": null,
      "outputs": [
        {
          "output_type": "execute_result",
          "data": {
            "text/plain": [
              "(7920, 3)"
            ]
          },
          "metadata": {},
          "execution_count": 5
        }
      ]
    },
    {
      "cell_type": "code",
      "source": [
        "data.duplicated().sum()"
      ],
      "metadata": {
        "colab": {
          "base_uri": "https://localhost:8080/"
        },
        "id": "mlFkB8RBA37K",
        "outputId": "89203af9-ed23-4392-ce21-de0e20f158eb"
      },
      "execution_count": null,
      "outputs": [
        {
          "output_type": "execute_result",
          "data": {
            "text/plain": [
              "0"
            ]
          },
          "metadata": {},
          "execution_count": 6
        }
      ]
    },
    {
      "cell_type": "code",
      "source": [
        "data.isnull().sum()"
      ],
      "metadata": {
        "colab": {
          "base_uri": "https://localhost:8080/"
        },
        "id": "yj3MiQSVBD_y",
        "outputId": "8f548fdb-8dd9-45c5-e4d9-592e2427746b"
      },
      "execution_count": null,
      "outputs": [
        {
          "output_type": "execute_result",
          "data": {
            "text/plain": [
              "id       0\n",
              "label    0\n",
              "tweet    0\n",
              "dtype: int64"
            ]
          },
          "metadata": {},
          "execution_count": 7
        }
      ]
    },
    {
      "cell_type": "markdown",
      "source": [
        "## Text Preprocessing"
      ],
      "metadata": {
        "id": "4Ms_WgepBeJ3"
      }
    },
    {
      "cell_type": "markdown",
      "source": [
        "1. convert uppercase to lowercase\n",
        "2. remove links\n",
        "3. remove punctuations\n",
        "4. remove numbers\n",
        "5. remove stopwords\n",
        "6. stemming"
      ],
      "metadata": {
        "id": "2bX1tUWJBnQo"
      }
    },
    {
      "cell_type": "code",
      "source": [
        "import re\n",
        "import string # import punctuations"
      ],
      "metadata": {
        "id": "i4yxfv2pBLsP"
      },
      "execution_count": null,
      "outputs": []
    },
    {
      "cell_type": "markdown",
      "source": [
        "convert upper to lower"
      ],
      "metadata": {
        "id": "HyT4c5jTDRVT"
      }
    },
    {
      "cell_type": "code",
      "source": [
        "data['tweet'].head(5)"
      ],
      "metadata": {
        "colab": {
          "base_uri": "https://localhost:8080/"
        },
        "id": "znmEKb_TEg0p",
        "outputId": "b4b0e7fd-5c30-4f58-99f7-5763dee332c8"
      },
      "execution_count": null,
      "outputs": [
        {
          "output_type": "execute_result",
          "data": {
            "text/plain": [
              "0    #fingerprint #Pregnancy Test https://goo.gl/h1...\n",
              "1    Finally a transparant silicon case ^^ Thanks t...\n",
              "2    We love this! Would you go? #talk #makememorie...\n",
              "3    I'm wired I know I'm George I was made that wa...\n",
              "4    What amazing service! Apple won't even talk to...\n",
              "Name: tweet, dtype: object"
            ]
          },
          "metadata": {},
          "execution_count": 9
        }
      ]
    },
    {
      "cell_type": "code",
      "source": [
        "# data['tweet']=data['tweet'].apply(lambda x:\" \".join(x.lower() for x in x.split()))\n",
        "data['tweet'] = data['tweet'].str.lower()"
      ],
      "metadata": {
        "id": "ICRcvDkVDOf4"
      },
      "execution_count": null,
      "outputs": []
    },
    {
      "cell_type": "code",
      "source": [
        "data['tweet'].head(5)"
      ],
      "metadata": {
        "colab": {
          "base_uri": "https://localhost:8080/"
        },
        "id": "pbdWVoD0EoA5",
        "outputId": "c0d71136-fb5c-48d0-b3ae-83e23555ca3c"
      },
      "execution_count": null,
      "outputs": [
        {
          "output_type": "execute_result",
          "data": {
            "text/plain": [
              "0    #fingerprint #pregnancy test https://goo.gl/h1...\n",
              "1    finally a transparant silicon case ^^ thanks t...\n",
              "2    we love this! would you go? #talk #makememorie...\n",
              "3    i'm wired i know i'm george i was made that wa...\n",
              "4    what amazing service! apple won't even talk to...\n",
              "Name: tweet, dtype: object"
            ]
          },
          "metadata": {},
          "execution_count": 11
        }
      ]
    },
    {
      "cell_type": "markdown",
      "source": [
        "## remove links"
      ],
      "metadata": {
        "id": "QG-nST-HGBF1"
      }
    },
    {
      "cell_type": "code",
      "source": [
        "# data['tweet']=data['tweet'].apply(lambda x:\" \".join(re.sub(r'^https?:\\/\\/.*','',x,flags=re.MULTILINE) for x in x.split()))\n",
        "data['tweet'] = data['tweet'].str.replace(r'http\\S+', '', regex=True)"
      ],
      "metadata": {
        "id": "UR0Y4i5EEqf4"
      },
      "execution_count": null,
      "outputs": []
    },
    {
      "cell_type": "code",
      "source": [
        "data['tweet'].head(5)"
      ],
      "metadata": {
        "colab": {
          "base_uri": "https://localhost:8080/"
        },
        "id": "pzo9mBh2Hlni",
        "outputId": "9861086c-3ae5-4460-cf58-66dc12331808"
      },
      "execution_count": null,
      "outputs": [
        {
          "output_type": "execute_result",
          "data": {
            "text/plain": [
              "0    #fingerprint #pregnancy test  #android #apps #...\n",
              "1    finally a transparant silicon case ^^ thanks t...\n",
              "2    we love this! would you go? #talk #makememorie...\n",
              "3    i'm wired i know i'm george i was made that wa...\n",
              "4    what amazing service! apple won't even talk to...\n",
              "Name: tweet, dtype: object"
            ]
          },
          "metadata": {},
          "execution_count": 13
        }
      ]
    },
    {
      "cell_type": "markdown",
      "source": [
        "## remove punctuation"
      ],
      "metadata": {
        "id": "XKEtQgfdHukE"
      }
    },
    {
      "cell_type": "code",
      "source": [
        "string.punctuation"
      ],
      "metadata": {
        "colab": {
          "base_uri": "https://localhost:8080/",
          "height": 36
        },
        "id": "8DijFDQ8Iumz",
        "outputId": "dd1a97cf-6da4-4722-c7e8-63e42552f979"
      },
      "execution_count": null,
      "outputs": [
        {
          "output_type": "execute_result",
          "data": {
            "text/plain": [
              "'!\"#$%&\\'()*+,-./:;<=>?@[\\\\]^_`{|}~'"
            ],
            "application/vnd.google.colaboratory.intrinsic+json": {
              "type": "string"
            }
          },
          "metadata": {},
          "execution_count": 14
        }
      ]
    },
    {
      "cell_type": "code",
      "source": [
        "def remove(text):\n",
        "  for punctuation in string.punctuation:\n",
        "    text=text.replace(punctuation, '')\n",
        "  return text\n",
        "data['tweet']=data['tweet'].apply(remove)"
      ],
      "metadata": {
        "id": "fHY7gAAuHorC"
      },
      "execution_count": null,
      "outputs": []
    },
    {
      "cell_type": "code",
      "source": [
        "data['tweet'].head(5)"
      ],
      "metadata": {
        "colab": {
          "base_uri": "https://localhost:8080/"
        },
        "id": "12VLXdTuIy6t",
        "outputId": "c5345b18-e4b0-4f15-d0f6-e31ef60da03e"
      },
      "execution_count": null,
      "outputs": [
        {
          "output_type": "execute_result",
          "data": {
            "text/plain": [
              "0    fingerprint pregnancy test  android apps beaut...\n",
              "1    finally a transparant silicon case  thanks to ...\n",
              "2    we love this would you go talk makememories un...\n",
              "3    im wired i know im george i was made that way ...\n",
              "4    what amazing service apple wont even talk to m...\n",
              "Name: tweet, dtype: object"
            ]
          },
          "metadata": {},
          "execution_count": 16
        }
      ]
    },
    {
      "cell_type": "markdown",
      "source": [
        "## remove numbers"
      ],
      "metadata": {
        "id": "5jYTlhANI862"
      }
    },
    {
      "cell_type": "code",
      "source": [
        "data['tweet']=data['tweet'].str.replace('\\d+','',regex=True)"
      ],
      "metadata": {
        "id": "YtcE-ICDI00X"
      },
      "execution_count": null,
      "outputs": []
    },
    {
      "cell_type": "code",
      "source": [
        "data['tweet'].tail(10)"
      ],
      "metadata": {
        "colab": {
          "base_uri": "https://localhost:8080/"
        },
        "id": "ZNQVlmBeJTHL",
        "outputId": "5f33772d-21e9-41c5-9526-1a7cae268678"
      },
      "execution_count": null,
      "outputs": [
        {
          "output_type": "execute_result",
          "data": {
            "text/plain": [
              "7910    perfect match instagood applewatch red instagr...\n",
              "7911    i am completely in love with the new iphone em...\n",
              "7912    tune in turn on drop out  gtd in one app  mobi...\n",
              "7913    ok so my galaxy crashed after one day now i ha...\n",
              "7914    gain followers rt this must follow me i follow...\n",
              "7915    live out loud lol liveoutloud selfie smile son...\n",
              "7916    we would like to wish you an amazing day make ...\n",
              "7917    helping my lovely  year old neighbor with her ...\n",
              "7918    finally got my smart pocket wifi stay connecte...\n",
              "7919    apple barcelona apple store bcn barcelona trav...\n",
              "Name: tweet, dtype: object"
            ]
          },
          "metadata": {},
          "execution_count": 18
        }
      ]
    },
    {
      "cell_type": "markdown",
      "source": [
        "## remove stopwords"
      ],
      "metadata": {
        "id": "nwuCKpDEJj1e"
      }
    },
    {
      "cell_type": "code",
      "source": [
        "import nltk"
      ],
      "metadata": {
        "id": "YENpCe-bJXxk"
      },
      "execution_count": null,
      "outputs": []
    },
    {
      "cell_type": "code",
      "source": [
        "nltk.download('stopwords')"
      ],
      "metadata": {
        "colab": {
          "base_uri": "https://localhost:8080/"
        },
        "id": "jq2541iVJtMl",
        "outputId": "16ac4cf4-cfbd-497c-bcfc-a5a1e8f82e66"
      },
      "execution_count": null,
      "outputs": [
        {
          "output_type": "stream",
          "name": "stderr",
          "text": [
            "[nltk_data] Downloading package stopwords to /root/nltk_data...\n",
            "[nltk_data]   Package stopwords is already up-to-date!\n"
          ]
        },
        {
          "output_type": "execute_result",
          "data": {
            "text/plain": [
              "True"
            ]
          },
          "metadata": {},
          "execution_count": 20
        }
      ]
    },
    {
      "cell_type": "code",
      "source": [
        "from nltk.corpus import stopwords\n",
        "\n",
        "stop_words = set(stopwords.words('english'))\n",
        "for i in stop_words:\n",
        "  print(i)\n"
      ],
      "metadata": {
        "colab": {
          "base_uri": "https://localhost:8080/"
        },
        "id": "3l8YAXHyhyvC",
        "outputId": "45e63b25-ae1a-470c-b965-c498890ea706"
      },
      "execution_count": null,
      "outputs": [
        {
          "output_type": "stream",
          "name": "stdout",
          "text": [
            "having\n",
            "mightn\n",
            "aren\n",
            "am\n",
            "most\n",
            "the\n",
            "an\n",
            "no\n",
            "out\n",
            "what\n",
            "does\n",
            "you'll\n",
            "yourselves\n",
            "she's\n",
            "on\n",
            "was\n",
            "yourself\n",
            "they\n",
            "it\n",
            "up\n",
            "each\n",
            "down\n",
            "wasn\n",
            "himself\n",
            "he\n",
            "wouldn\n",
            "between\n",
            "hers\n",
            "above\n",
            "other\n",
            "her\n",
            "and\n",
            "further\n",
            "had\n",
            "some\n",
            "that\n",
            "where\n",
            "should\n",
            "more\n",
            "myself\n",
            "aren't\n",
            "very\n",
            "shouldn't\n",
            "both\n",
            "didn\n",
            "few\n",
            "wouldn't\n",
            "be\n",
            "until\n",
            "herself\n",
            "you're\n",
            "didn't\n",
            "t\n",
            "won\n",
            "m\n",
            "doing\n",
            "him\n",
            "over\n",
            "ours\n",
            "did\n",
            "will\n",
            "your\n",
            "doesn\n",
            "if\n",
            "hasn\n",
            "needn\n",
            "mustn't\n",
            "such\n",
            "me\n",
            "don't\n",
            "isn\n",
            "as\n",
            "haven't\n",
            "from\n",
            "couldn\n",
            "you\n",
            "into\n",
            "during\n",
            "but\n",
            "through\n",
            "its\n",
            "ain\n",
            "been\n",
            "mightn't\n",
            "theirs\n",
            "when\n",
            "is\n",
            "nor\n",
            "y\n",
            "shouldn\n",
            "after\n",
            "yours\n",
            "themselves\n",
            "just\n",
            "mustn\n",
            "off\n",
            "all\n",
            "should've\n",
            "those\n",
            "don\n",
            "we\n",
            "these\n",
            "you've\n",
            "are\n",
            "our\n",
            "it's\n",
            "s\n",
            "have\n",
            "ll\n",
            "haven\n",
            "ma\n",
            "d\n",
            "needn't\n",
            "hadn't\n",
            "how\n",
            "his\n",
            "then\n",
            "has\n",
            "which\n",
            "that'll\n",
            "again\n",
            "whom\n",
            "them\n",
            "weren\n",
            "itself\n",
            "there\n",
            "in\n",
            "hadn\n",
            "doesn't\n",
            "once\n",
            "won't\n",
            "not\n",
            "ourselves\n",
            "under\n",
            "shan\n",
            "own\n",
            "being\n",
            "here\n",
            "so\n",
            "at\n",
            "ve\n",
            "isn't\n",
            "she\n",
            "about\n",
            "before\n",
            "or\n",
            "below\n",
            "of\n",
            "wasn't\n",
            "do\n",
            "can\n",
            "who\n",
            "their\n",
            "this\n",
            "you'd\n",
            "by\n",
            "o\n",
            "weren't\n",
            "were\n",
            "only\n",
            "couldn't\n",
            "hasn't\n",
            "i\n",
            "shan't\n",
            "to\n",
            "re\n",
            "any\n",
            "for\n",
            "while\n",
            "same\n",
            "my\n",
            "now\n",
            "a\n",
            "against\n",
            "why\n",
            "too\n",
            "than\n",
            "because\n",
            "with\n"
          ]
        }
      ]
    },
    {
      "cell_type": "code",
      "source": [
        "def remove_stopwords(text):\n",
        "    words = text.split()\n",
        "    filtered_words = [word for word in words if word.lower() not in stop_words]\n",
        "    return ' '.join(filtered_words)\n",
        "data['tweet'] = data['tweet'].apply(remove_stopwords)"
      ],
      "metadata": {
        "id": "h0ZSQvSfjMDO"
      },
      "execution_count": null,
      "outputs": []
    },
    {
      "cell_type": "code",
      "source": [
        "data['tweet'].head(5)"
      ],
      "metadata": {
        "colab": {
          "base_uri": "https://localhost:8080/"
        },
        "id": "7YLBPwwroq-a",
        "outputId": "bf40d02f-c722-4b7b-a622-f3ffb711fd1c"
      },
      "execution_count": null,
      "outputs": [
        {
          "output_type": "execute_result",
          "data": {
            "text/plain": [
              "0    fingerprint pregnancy test android apps beauti...\n",
              "1    finally transparant silicon case thanks uncle ...\n",
              "2    love would go talk makememories unplug relax i...\n",
              "3    im wired know im george made way iphone cute d...\n",
              "4    amazing service apple wont even talk question ...\n",
              "Name: tweet, dtype: object"
            ]
          },
          "metadata": {},
          "execution_count": 23
        }
      ]
    },
    {
      "cell_type": "markdown",
      "source": [
        "## stemming"
      ],
      "metadata": {
        "id": "NS9cr2n4o8z1"
      }
    },
    {
      "cell_type": "code",
      "source": [
        "from nltk.stem import PorterStemmer\n",
        "ps=PorterStemmer()"
      ],
      "metadata": {
        "id": "68tYrCeiowEU"
      },
      "execution_count": null,
      "outputs": []
    },
    {
      "cell_type": "code",
      "source": [
        "data['tweet']=data['tweet'].apply(lambda x:\" \".join(ps.stem(x) for x in x.split()))"
      ],
      "metadata": {
        "id": "k_KYQE8rsOQb"
      },
      "execution_count": null,
      "outputs": []
    },
    {
      "cell_type": "code",
      "source": [
        "data['tweet'].head(5)"
      ],
      "metadata": {
        "colab": {
          "base_uri": "https://localhost:8080/"
        },
        "id": "_76QdaxAsqgQ",
        "outputId": "55c89fb4-d23e-4b3b-cbd8-58fed2721bf0"
      },
      "execution_count": null,
      "outputs": [
        {
          "output_type": "execute_result",
          "data": {
            "text/plain": [
              "0    fingerprint pregnanc test android app beauti c...\n",
              "1    final transpar silicon case thank uncl yay son...\n",
              "2    love would go talk makememori unplug relax iph...\n",
              "3    im wire know im georg made way iphon cute dave...\n",
              "4    amaz servic appl wont even talk question unles...\n",
              "Name: tweet, dtype: object"
            ]
          },
          "metadata": {},
          "execution_count": 26
        }
      ]
    },
    {
      "cell_type": "code",
      "source": [
        "data.head(5)"
      ],
      "metadata": {
        "colab": {
          "base_uri": "https://localhost:8080/",
          "height": 206
        },
        "id": "yWYJV3e8suA4",
        "outputId": "90112187-8451-46b9-e922-2f10292b99ff"
      },
      "execution_count": null,
      "outputs": [
        {
          "output_type": "execute_result",
          "data": {
            "text/plain": [
              "   id  label                                              tweet\n",
              "0   1      0  fingerprint pregnanc test android app beauti c...\n",
              "1   2      0  final transpar silicon case thank uncl yay son...\n",
              "2   3      0  love would go talk makememori unplug relax iph...\n",
              "3   4      0  im wire know im georg made way iphon cute dave...\n",
              "4   5      1  amaz servic appl wont even talk question unles..."
            ],
            "text/html": [
              "\n",
              "  <div id=\"df-de5fcf13-84e6-4e51-8c18-b3218ca0817b\" class=\"colab-df-container\">\n",
              "    <div>\n",
              "<style scoped>\n",
              "    .dataframe tbody tr th:only-of-type {\n",
              "        vertical-align: middle;\n",
              "    }\n",
              "\n",
              "    .dataframe tbody tr th {\n",
              "        vertical-align: top;\n",
              "    }\n",
              "\n",
              "    .dataframe thead th {\n",
              "        text-align: right;\n",
              "    }\n",
              "</style>\n",
              "<table border=\"1\" class=\"dataframe\">\n",
              "  <thead>\n",
              "    <tr style=\"text-align: right;\">\n",
              "      <th></th>\n",
              "      <th>id</th>\n",
              "      <th>label</th>\n",
              "      <th>tweet</th>\n",
              "    </tr>\n",
              "  </thead>\n",
              "  <tbody>\n",
              "    <tr>\n",
              "      <th>0</th>\n",
              "      <td>1</td>\n",
              "      <td>0</td>\n",
              "      <td>fingerprint pregnanc test android app beauti c...</td>\n",
              "    </tr>\n",
              "    <tr>\n",
              "      <th>1</th>\n",
              "      <td>2</td>\n",
              "      <td>0</td>\n",
              "      <td>final transpar silicon case thank uncl yay son...</td>\n",
              "    </tr>\n",
              "    <tr>\n",
              "      <th>2</th>\n",
              "      <td>3</td>\n",
              "      <td>0</td>\n",
              "      <td>love would go talk makememori unplug relax iph...</td>\n",
              "    </tr>\n",
              "    <tr>\n",
              "      <th>3</th>\n",
              "      <td>4</td>\n",
              "      <td>0</td>\n",
              "      <td>im wire know im georg made way iphon cute dave...</td>\n",
              "    </tr>\n",
              "    <tr>\n",
              "      <th>4</th>\n",
              "      <td>5</td>\n",
              "      <td>1</td>\n",
              "      <td>amaz servic appl wont even talk question unles...</td>\n",
              "    </tr>\n",
              "  </tbody>\n",
              "</table>\n",
              "</div>\n",
              "    <div class=\"colab-df-buttons\">\n",
              "\n",
              "  <div class=\"colab-df-container\">\n",
              "    <button class=\"colab-df-convert\" onclick=\"convertToInteractive('df-de5fcf13-84e6-4e51-8c18-b3218ca0817b')\"\n",
              "            title=\"Convert this dataframe to an interactive table.\"\n",
              "            style=\"display:none;\">\n",
              "\n",
              "  <svg xmlns=\"http://www.w3.org/2000/svg\" height=\"24px\" viewBox=\"0 -960 960 960\">\n",
              "    <path d=\"M120-120v-720h720v720H120Zm60-500h600v-160H180v160Zm220 220h160v-160H400v160Zm0 220h160v-160H400v160ZM180-400h160v-160H180v160Zm440 0h160v-160H620v160ZM180-180h160v-160H180v160Zm440 0h160v-160H620v160Z\"/>\n",
              "  </svg>\n",
              "    </button>\n",
              "\n",
              "  <style>\n",
              "    .colab-df-container {\n",
              "      display:flex;\n",
              "      gap: 12px;\n",
              "    }\n",
              "\n",
              "    .colab-df-convert {\n",
              "      background-color: #E8F0FE;\n",
              "      border: none;\n",
              "      border-radius: 50%;\n",
              "      cursor: pointer;\n",
              "      display: none;\n",
              "      fill: #1967D2;\n",
              "      height: 32px;\n",
              "      padding: 0 0 0 0;\n",
              "      width: 32px;\n",
              "    }\n",
              "\n",
              "    .colab-df-convert:hover {\n",
              "      background-color: #E2EBFA;\n",
              "      box-shadow: 0px 1px 2px rgba(60, 64, 67, 0.3), 0px 1px 3px 1px rgba(60, 64, 67, 0.15);\n",
              "      fill: #174EA6;\n",
              "    }\n",
              "\n",
              "    .colab-df-buttons div {\n",
              "      margin-bottom: 4px;\n",
              "    }\n",
              "\n",
              "    [theme=dark] .colab-df-convert {\n",
              "      background-color: #3B4455;\n",
              "      fill: #D2E3FC;\n",
              "    }\n",
              "\n",
              "    [theme=dark] .colab-df-convert:hover {\n",
              "      background-color: #434B5C;\n",
              "      box-shadow: 0px 1px 3px 1px rgba(0, 0, 0, 0.15);\n",
              "      filter: drop-shadow(0px 1px 2px rgba(0, 0, 0, 0.3));\n",
              "      fill: #FFFFFF;\n",
              "    }\n",
              "  </style>\n",
              "\n",
              "    <script>\n",
              "      const buttonEl =\n",
              "        document.querySelector('#df-de5fcf13-84e6-4e51-8c18-b3218ca0817b button.colab-df-convert');\n",
              "      buttonEl.style.display =\n",
              "        google.colab.kernel.accessAllowed ? 'block' : 'none';\n",
              "\n",
              "      async function convertToInteractive(key) {\n",
              "        const element = document.querySelector('#df-de5fcf13-84e6-4e51-8c18-b3218ca0817b');\n",
              "        const dataTable =\n",
              "          await google.colab.kernel.invokeFunction('convertToInteractive',\n",
              "                                                    [key], {});\n",
              "        if (!dataTable) return;\n",
              "\n",
              "        const docLinkHtml = 'Like what you see? Visit the ' +\n",
              "          '<a target=\"_blank\" href=https://colab.research.google.com/notebooks/data_table.ipynb>data table notebook</a>'\n",
              "          + ' to learn more about interactive tables.';\n",
              "        element.innerHTML = '';\n",
              "        dataTable['output_type'] = 'display_data';\n",
              "        await google.colab.output.renderOutput(dataTable, element);\n",
              "        const docLink = document.createElement('div');\n",
              "        docLink.innerHTML = docLinkHtml;\n",
              "        element.appendChild(docLink);\n",
              "      }\n",
              "    </script>\n",
              "  </div>\n",
              "\n",
              "\n",
              "<div id=\"df-3aadbac6-38a2-4686-9a8d-66cef7afd13b\">\n",
              "  <button class=\"colab-df-quickchart\" onclick=\"quickchart('df-3aadbac6-38a2-4686-9a8d-66cef7afd13b')\"\n",
              "            title=\"Suggest charts\"\n",
              "            style=\"display:none;\">\n",
              "\n",
              "<svg xmlns=\"http://www.w3.org/2000/svg\" height=\"24px\"viewBox=\"0 0 24 24\"\n",
              "     width=\"24px\">\n",
              "    <g>\n",
              "        <path d=\"M19 3H5c-1.1 0-2 .9-2 2v14c0 1.1.9 2 2 2h14c1.1 0 2-.9 2-2V5c0-1.1-.9-2-2-2zM9 17H7v-7h2v7zm4 0h-2V7h2v10zm4 0h-2v-4h2v4z\"/>\n",
              "    </g>\n",
              "</svg>\n",
              "  </button>\n",
              "\n",
              "<style>\n",
              "  .colab-df-quickchart {\n",
              "      --bg-color: #E8F0FE;\n",
              "      --fill-color: #1967D2;\n",
              "      --hover-bg-color: #E2EBFA;\n",
              "      --hover-fill-color: #174EA6;\n",
              "      --disabled-fill-color: #AAA;\n",
              "      --disabled-bg-color: #DDD;\n",
              "  }\n",
              "\n",
              "  [theme=dark] .colab-df-quickchart {\n",
              "      --bg-color: #3B4455;\n",
              "      --fill-color: #D2E3FC;\n",
              "      --hover-bg-color: #434B5C;\n",
              "      --hover-fill-color: #FFFFFF;\n",
              "      --disabled-bg-color: #3B4455;\n",
              "      --disabled-fill-color: #666;\n",
              "  }\n",
              "\n",
              "  .colab-df-quickchart {\n",
              "    background-color: var(--bg-color);\n",
              "    border: none;\n",
              "    border-radius: 50%;\n",
              "    cursor: pointer;\n",
              "    display: none;\n",
              "    fill: var(--fill-color);\n",
              "    height: 32px;\n",
              "    padding: 0;\n",
              "    width: 32px;\n",
              "  }\n",
              "\n",
              "  .colab-df-quickchart:hover {\n",
              "    background-color: var(--hover-bg-color);\n",
              "    box-shadow: 0 1px 2px rgba(60, 64, 67, 0.3), 0 1px 3px 1px rgba(60, 64, 67, 0.15);\n",
              "    fill: var(--button-hover-fill-color);\n",
              "  }\n",
              "\n",
              "  .colab-df-quickchart-complete:disabled,\n",
              "  .colab-df-quickchart-complete:disabled:hover {\n",
              "    background-color: var(--disabled-bg-color);\n",
              "    fill: var(--disabled-fill-color);\n",
              "    box-shadow: none;\n",
              "  }\n",
              "\n",
              "  .colab-df-spinner {\n",
              "    border: 2px solid var(--fill-color);\n",
              "    border-color: transparent;\n",
              "    border-bottom-color: var(--fill-color);\n",
              "    animation:\n",
              "      spin 1s steps(1) infinite;\n",
              "  }\n",
              "\n",
              "  @keyframes spin {\n",
              "    0% {\n",
              "      border-color: transparent;\n",
              "      border-bottom-color: var(--fill-color);\n",
              "      border-left-color: var(--fill-color);\n",
              "    }\n",
              "    20% {\n",
              "      border-color: transparent;\n",
              "      border-left-color: var(--fill-color);\n",
              "      border-top-color: var(--fill-color);\n",
              "    }\n",
              "    30% {\n",
              "      border-color: transparent;\n",
              "      border-left-color: var(--fill-color);\n",
              "      border-top-color: var(--fill-color);\n",
              "      border-right-color: var(--fill-color);\n",
              "    }\n",
              "    40% {\n",
              "      border-color: transparent;\n",
              "      border-right-color: var(--fill-color);\n",
              "      border-top-color: var(--fill-color);\n",
              "    }\n",
              "    60% {\n",
              "      border-color: transparent;\n",
              "      border-right-color: var(--fill-color);\n",
              "    }\n",
              "    80% {\n",
              "      border-color: transparent;\n",
              "      border-right-color: var(--fill-color);\n",
              "      border-bottom-color: var(--fill-color);\n",
              "    }\n",
              "    90% {\n",
              "      border-color: transparent;\n",
              "      border-bottom-color: var(--fill-color);\n",
              "    }\n",
              "  }\n",
              "</style>\n",
              "\n",
              "  <script>\n",
              "    async function quickchart(key) {\n",
              "      const quickchartButtonEl =\n",
              "        document.querySelector('#' + key + ' button');\n",
              "      quickchartButtonEl.disabled = true;  // To prevent multiple clicks.\n",
              "      quickchartButtonEl.classList.add('colab-df-spinner');\n",
              "      try {\n",
              "        const charts = await google.colab.kernel.invokeFunction(\n",
              "            'suggestCharts', [key], {});\n",
              "      } catch (error) {\n",
              "        console.error('Error during call to suggestCharts:', error);\n",
              "      }\n",
              "      quickchartButtonEl.classList.remove('colab-df-spinner');\n",
              "      quickchartButtonEl.classList.add('colab-df-quickchart-complete');\n",
              "    }\n",
              "    (() => {\n",
              "      let quickchartButtonEl =\n",
              "        document.querySelector('#df-3aadbac6-38a2-4686-9a8d-66cef7afd13b button');\n",
              "      quickchartButtonEl.style.display =\n",
              "        google.colab.kernel.accessAllowed ? 'block' : 'none';\n",
              "    })();\n",
              "  </script>\n",
              "</div>\n",
              "    </div>\n",
              "  </div>\n"
            ]
          },
          "metadata": {},
          "execution_count": 27
        }
      ]
    },
    {
      "cell_type": "markdown",
      "source": [
        "## Building Vocabulary"
      ],
      "metadata": {
        "id": "ITiu4i7X0Fif"
      }
    },
    {
      "cell_type": "code",
      "source": [
        "from collections import Counter\n",
        "vocab = Counter()"
      ],
      "metadata": {
        "id": "2PYIFif9s0-A"
      },
      "execution_count": null,
      "outputs": []
    },
    {
      "cell_type": "code",
      "source": [
        "#example\n",
        "# vocab.update(['java','python','java','R'])\n",
        "# vocab"
      ],
      "metadata": {
        "id": "lsrDJbPo0YYN"
      },
      "execution_count": null,
      "outputs": []
    },
    {
      "cell_type": "code",
      "source": [
        "for sentence in data['tweet']:\n",
        "  # print(sentence)\n",
        "  vocab.update(sentence.split())"
      ],
      "metadata": {
        "id": "LjefvFIM06UW"
      },
      "execution_count": null,
      "outputs": []
    },
    {
      "cell_type": "code",
      "source": [
        "vocab"
      ],
      "metadata": {
        "colab": {
          "base_uri": "https://localhost:8080/"
        },
        "id": "og_Evqsy1P7_",
        "outputId": "b60b184c-0637-4ea6-c1b4-c96dae04a486"
      },
      "execution_count": null,
      "outputs": [
        {
          "output_type": "execute_result",
          "data": {
            "text/plain": [
              "Counter({'fingerprint': 5,\n",
              "         'pregnanc': 1,\n",
              "         'test': 12,\n",
              "         'android': 414,\n",
              "         'app': 416,\n",
              "         'beauti': 322,\n",
              "         'cute': 322,\n",
              "         'health': 120,\n",
              "         'iger': 143,\n",
              "         'iphoneonli': 129,\n",
              "         'iphonesia': 137,\n",
              "         'iphon': 4073,\n",
              "         'final': 192,\n",
              "         'transpar': 5,\n",
              "         'silicon': 5,\n",
              "         'case': 348,\n",
              "         'thank': 263,\n",
              "         'uncl': 4,\n",
              "         'yay': 69,\n",
              "         'soni': 819,\n",
              "         'xperia': 60,\n",
              "         'sonyexperias…': 1,\n",
              "         'love': 499,\n",
              "         'would': 146,\n",
              "         'go': 209,\n",
              "         'talk': 27,\n",
              "         'makememori': 1,\n",
              "         'unplug': 3,\n",
              "         'relax': 41,\n",
              "         'smartphon': 134,\n",
              "         'wifi': 50,\n",
              "         'connect': 27,\n",
              "         'im': 294,\n",
              "         'wire': 8,\n",
              "         'know': 106,\n",
              "         'georg': 1,\n",
              "         'made': 72,\n",
              "         'way': 53,\n",
              "         'daventri': 1,\n",
              "         'home': 143,\n",
              "         'amaz': 178,\n",
              "         'servic': 51,\n",
              "         'appl': 2876,\n",
              "         'wont': 87,\n",
              "         'even': 108,\n",
              "         'question': 14,\n",
              "         'unless': 3,\n",
              "         'pay': 47,\n",
              "         'stupid': 68,\n",
              "         'support': 47,\n",
              "         'softwar': 29,\n",
              "         'updat': 236,\n",
              "         'fuck': 293,\n",
              "         'phone': 1015,\n",
              "         'big': 64,\n",
              "         'time': 248,\n",
              "         'happi': 293,\n",
              "         'us': 80,\n",
              "         'instap': 55,\n",
              "         'instadaili': 66,\n",
              "         'xperiaz': 23,\n",
              "         'new': 1137,\n",
              "         'type': 19,\n",
              "         'c': 28,\n",
              "         'charger': 128,\n",
              "         'cabl': 40,\n",
              "         'uk': 25,\n",
              "         '…': 756,\n",
              "         'bay': 3,\n",
              "         'amazon': 61,\n",
              "         'etsi': 6,\n",
              "         'year': 142,\n",
              "         'rob': 2,\n",
              "         'cross': 7,\n",
              "         'tobi': 3,\n",
              "         'young': 6,\n",
              "         'evemun': 1,\n",
              "         'mcmafia': 1,\n",
              "         'taylor': 4,\n",
              "         'spectr': 1,\n",
              "         'newyear': 51,\n",
              "         'start': 68,\n",
              "         'recip': 6,\n",
              "         'technolog': 88,\n",
              "         'samsunggalaxi': 33,\n",
              "         'iphonex': 199,\n",
              "         'pictwittercompjiwqwtc': 1,\n",
              "         'bout': 5,\n",
              "         'shop': 116,\n",
              "         'listen': 45,\n",
              "         'music': 264,\n",
              "         'justm': 4,\n",
              "         'likeforlik': 20,\n",
              "         'followforfollow…': 2,\n",
              "         'photo': 394,\n",
              "         'fun': 277,\n",
              "         'selfi': 164,\n",
              "         'pool': 8,\n",
              "         'water': 30,\n",
              "         'camera': 139,\n",
              "         'picoftheday': 117,\n",
              "         'sun': 67,\n",
              "         'instagood': 226,\n",
              "         'boy': 77,\n",
              "         'outdoor': 16,\n",
              "         'hey': 73,\n",
              "         'make': 247,\n",
              "         'ipod': 211,\n",
              "         'dont': 168,\n",
              "         'color': 125,\n",
              "         'inch': 23,\n",
              "         'thinner': 3,\n",
              "         'crash': 37,\n",
              "         'everi': 127,\n",
              "         'five': 7,\n",
              "         'fuckin': 5,\n",
              "         'minit': 1,\n",
              "         'ha': 7,\n",
              "         'heavi': 3,\n",
              "         'machineri': 1,\n",
              "         'need': 138,\n",
              "         'realli': 83,\n",
              "         'drop': 34,\n",
              "         'ball': 11,\n",
              "         'design': 64,\n",
              "         'drinkyourhaterad': 1,\n",
              "         'contempl': 2,\n",
              "         'give': 76,\n",
              "         'bandwagon': 1,\n",
              "         'simpli': 5,\n",
              "         'cellcom': 1,\n",
              "         'depress': 5,\n",
              "         'idontwantto': 1,\n",
              "         'anoth': 71,\n",
              "         'crazi': 41,\n",
              "         'purchas': 24,\n",
              "         'lol': 215,\n",
              "         'theori': 1,\n",
              "         'work': 306,\n",
              "         'hard': 49,\n",
              "         'play': 77,\n",
              "         'ipad': 537,\n",
              "         'shaqlockholm': 1,\n",
              "         'samlouis': 1,\n",
              "         'batteri': 80,\n",
              "         'pain': 9,\n",
              "         'charg': 81,\n",
              "         'overnight': 2,\n",
              "         'lunchtim': 1,\n",
              "         'dead': 20,\n",
              "         'hateorang': 2,\n",
              "         'deepellum': 1,\n",
              "         'toward': 3,\n",
              "         'downtown': 5,\n",
              "         'dalla': 1,\n",
              "         'bigd': 1,\n",
              "         'saturday': 40,\n",
              "         'rxm': 1,\n",
              "         'summer': 119,\n",
              "         'urban': 8,\n",
              "         'like': 456,\n",
              "         'share': 53,\n",
              "         'want': 165,\n",
              "         '…pictwittercomgfknyecj': 1,\n",
              "         'instagram': 358,\n",
              "         'photooftheday': 191,\n",
              "         'tweegram': 50,\n",
              "         'reason': 41,\n",
              "         'one': 221,\n",
              "         'suck': 126,\n",
              "         'truth': 20,\n",
              "         'truthbetold': 1,\n",
              "         'agre': 13,\n",
              "         'fact': 22,\n",
              "         'realitycheck': 2,\n",
              "         'blackberrypictwittercomzpggdcazn': 1,\n",
              "         'store': 91,\n",
              "         'gunna': 3,\n",
              "         'screen': 102,\n",
              "         'monday': 36,\n",
              "         'ur': 20,\n",
              "         'fuckingpiss': 1,\n",
              "         'art': 132,\n",
              "         'easter': 12,\n",
              "         'dear': 48,\n",
              "         'friend': 191,\n",
              "         'publish': 1,\n",
              "         'channel': 4,\n",
              "         'face': 51,\n",
              "         'bunni': 7,\n",
              "         'email': 30,\n",
              "         'png': 1,\n",
              "         'thumbnail': 1,\n",
              "         'mutitaedibleartgmailcompictwittercomjhwphfbgt': 1,\n",
              "         'excus': 5,\n",
              "         'waiter': 1,\n",
              "         'seem': 15,\n",
              "         'pie': 24,\n",
              "         'soup': 6,\n",
              "         'wife': 14,\n",
              "         'bake': 5,\n",
              "         'ive': 83,\n",
              "         'four': 7,\n",
              "         'day': 426,\n",
              "         'button': 29,\n",
              "         'back': 294,\n",
              "         'broke': 29,\n",
              "         'accident': 5,\n",
              "         'hit': 12,\n",
              "         'goe': 22,\n",
              "         'complet': 34,\n",
              "         'black': 90,\n",
              "         'keep': 85,\n",
              "         'get': 383,\n",
              "         'text': 68,\n",
              "         'cant': 180,\n",
              "         'check': 66,\n",
              "         'thiphon': 1,\n",
              "         'wallpap': 24,\n",
              "         'wall': 17,\n",
              "         'galaxi': 361,\n",
              "         'samsung': 1395,\n",
              "         'billion': 2,\n",
              "         'patent': 18,\n",
              "         'prior': 1,\n",
              "         'million': 13,\n",
              "         'troll': 6,\n",
              "         'parti': 48,\n",
              "         'mess': 19,\n",
              "         'havent': 19,\n",
              "         'done': 38,\n",
              "         'noth': 35,\n",
              "         'myloss': 1,\n",
              "         'touch': 19,\n",
              "         'frozen': 5,\n",
              "         'logo': 8,\n",
              "         'lose': 21,\n",
              "         'demi': 2,\n",
              "         'pic': 70,\n",
              "         'kill': 23,\n",
              "         'someon': 32,\n",
              "         'soangri': 2,\n",
              "         'hateappl': 49,\n",
              "         'flower': 55,\n",
              "         'green': 53,\n",
              "         'diamond': 7,\n",
              "         'pearl': 4,\n",
              "         'case…': 3,\n",
              "         'must': 168,\n",
              "         'watch': 81,\n",
              "         'youtub': 62,\n",
              "         'subscrib': 14,\n",
              "         'daili': 17,\n",
              "         'vlog': 17,\n",
              "         'twitch': 50,\n",
              "         'game': 283,\n",
              "         'ps': 198,\n",
              "         'xbox': 29,\n",
              "         'io': 383,\n",
              "         'live': 125,\n",
              "         'laugh': 59,\n",
              "         'life': 415,\n",
              "         'food': 64,\n",
              "         'philippin': 3,\n",
              "         'instago': 32,\n",
              "         'instahub': 24,\n",
              "         'instagram…': 12,\n",
              "         'ch': 2,\n",
              "         'cannon': 1,\n",
              "         'suewe': 2,\n",
              "         'friendship': 12,\n",
              "         'americanbulli': 2,\n",
              "         'dog': 71,\n",
              "         'piggi': 1,\n",
              "         'famili': 139,\n",
              "         'southerncharm': 1,\n",
              "         'americanidol': 1,\n",
              "         'goal': 15,\n",
              "         'bestfriend': 27,\n",
              "         'pitbul': 6,\n",
              "         'onelov': 4,\n",
              "         'countri': 9,\n",
              "         'muscl': 4,\n",
              "         'nfl': 3,\n",
              "         'worldwid': 3,\n",
              "         'america': 14,\n",
              "         'bigboy': 3,\n",
              "         'thislif': 1,\n",
              "         'tmz': 3,\n",
              "         'wild': 10,\n",
              "         'hoggpictwittercommnogp': 1,\n",
              "         'mimmoal': 6,\n",
              "         'feb': 4,\n",
              "         'taken': 34,\n",
              "         'rx': 6,\n",
              "         'direzionevertical': 1,\n",
              "         'sunset': 61,\n",
              "         'sky': 56,\n",
              "         '…pictwittercomcxifijjg': 1,\n",
              "         'sister': 33,\n",
              "         'bought': 57,\n",
              "         'earli': 34,\n",
              "         'bday': 14,\n",
              "         'gift': 163,\n",
              "         'receiv': 22,\n",
              "         'note': 166,\n",
              "         'mani': 34,\n",
              "         'cottd': 1,\n",
              "         'nswrl': 1,\n",
              "         'market': 31,\n",
              "         'pipelin': 1,\n",
              "         'delet': 93,\n",
              "         'individu': 2,\n",
              "         'song': 60,\n",
              "         'itun': 212,\n",
              "         'everybodi': 9,\n",
              "         'freak': 19,\n",
              "         'duuud': 1,\n",
              "         'window': 104,\n",
              "         'advanc': 11,\n",
              "         'custom': 78,\n",
              "         'stand': 17,\n",
              "         'sirriious': 1,\n",
              "         'bad': 37,\n",
              "         'cheap': 11,\n",
              "         're': 1,\n",
              "         'tech': 206,\n",
              "         'bull': 14,\n",
              "         'instas': 6,\n",
              "         'leg': 6,\n",
              "         'lightskin': 1,\n",
              "         'curlyhair': 1,\n",
              "         'bellypierc': 1,\n",
              "         'smile': 231,\n",
              "         'potd…': 1,\n",
              "         'din’t': 1,\n",
              "         'creat': 16,\n",
              "         'don’t': 9,\n",
              "         'let': 73,\n",
              "         'destroy': 7,\n",
              "         'candid': 5,\n",
              "         'sunday': 57,\n",
              "         'sundayvib': 3,\n",
              "         'alway': 63,\n",
              "         'eye': 25,\n",
              "         'ootd': 21,\n",
              "         'fashion': 215,\n",
              "         'blackandwhit': 23,\n",
              "         'poser': 4,\n",
              "         'attitud': 1,\n",
              "         'lifeisgood': 1,\n",
              "         'mylook': 1,\n",
              "         'mylif': 6,\n",
              "         'photoeveryday': 1,\n",
              "         'lookoftheday': 4,\n",
              "         'latepost': 4,\n",
              "         'mylifepictwittercommmhcqyadb': 1,\n",
              "         'film': 25,\n",
              "         'set': 31,\n",
              "         'build': 7,\n",
              "         'timelaps': 5,\n",
              "         'video': 81,\n",
              "         'produc': 15,\n",
              "         'videoproduct': 5,\n",
              "         'follow': 885,\n",
              "         'commerci': 9,\n",
              "         'actor': 8,\n",
              "         'actress': 6,\n",
              "         'hollywood': 4,\n",
              "         'losangel': 7,\n",
              "         'movi': 38,\n",
              "         'act': 11,\n",
              "         'startup': 9,\n",
              "         'startupvideo': 2,\n",
              "         'shotoniphonpictwittercomeceiain': 1,\n",
              "         'cupcak': 7,\n",
              "         'pink': 86,\n",
              "         'sweet': 85,\n",
              "         'cherri': 5,\n",
              "         'eeeeee': 1,\n",
              "         'sexi': 94,\n",
              "         'ladi': 14,\n",
              "         'acquisto': 1,\n",
              "         'del': 1,\n",
              "         'week': 69,\n",
              "         'end': 31,\n",
              "         'iphoneplu': 49,\n",
              "         'gril': 3,\n",
              "         'moment': 50,\n",
              "         'italy…': 2,\n",
              "         'majest': 2,\n",
              "         'see': 70,\n",
              "         'differ': 24,\n",
              "         'photographi': 292,\n",
              "         'natur': 107,\n",
              "         'landscap': 16,\n",
              "         'forest': 3,\n",
              "         'hidden': 2,\n",
              "         'clear': 9,\n",
              "         'view': 13,\n",
              "         'wood': 4,\n",
              "         'tree': 35,\n",
              "         'travel': 81,\n",
              "         'biker': 1,\n",
              "         'ziess': 1,\n",
              "         'instgramhub': 1,\n",
              "         'googl': 76,\n",
              "         'cut': 18,\n",
              "         'program': 15,\n",
              "         'ahhhh': 3,\n",
              "         'look': 171,\n",
              "         'got': 280,\n",
              "         'christma': 124,\n",
              "         'girl': 220,\n",
              "         'instacool': 23,\n",
              "         'followforfollow': 5,\n",
              "         'bitcoinboy': 1,\n",
              "         'free': 149,\n",
              "         'kansa': 2,\n",
              "         'georgia': 3,\n",
              "         'ogochocinco': 1,\n",
              "         'antoin': 3,\n",
              "         'ent': 1,\n",
              "         'appstor': 63,\n",
              "         'joy': 40,\n",
              "         'peac': 35,\n",
              "         'reflect': 12,\n",
              "         'rememb': 12,\n",
              "         'cloud': 30,\n",
              "         'cloudhub': 5,\n",
              "         'skyhub': 5,\n",
              "         'gr': 11,\n",
              "         'iphone…': 86,\n",
              "         'babi': 148,\n",
              "         'babyboy': 2,\n",
              "         'muesli': 2,\n",
              "         'hedgehog': 1,\n",
              "         'pet': 26,\n",
              "         'inbox': 3,\n",
              "         'letter': 8,\n",
              "         'editor': 2,\n",
              "         'news': 265,\n",
              "         'fail': 169,\n",
              "         'funni': 223,\n",
              "         'lolpictwittercomikrhumovz': 1,\n",
              "         'zsofimonst': 1,\n",
              "         'faster': 4,\n",
              "         'hate': 155,\n",
              "         'ye…': 1,\n",
              "         'jamesdawut': 1,\n",
              "         'tablet': 61,\n",
              "         'person': 22,\n",
              "         'use': 174,\n",
              "         'sens': 4,\n",
              "         'fan': 34,\n",
              "         'think': 80,\n",
              "         'quit': 10,\n",
              "         'gd': 4,\n",
              "         'product': 117,\n",
              "         'friday': 63,\n",
              "         'call': 50,\n",
              "         '‘black': 1,\n",
              "         'friday’': 2,\n",
              "         'blackfridayd': 1,\n",
              "         'blackfriday': 17,\n",
              "         'holiday': 56,\n",
              "         'newyork': 24,\n",
              "         'busi': 42,\n",
              "         'crowd': 3,\n",
              "         'money': 103,\n",
              "         'birthday': 206,\n",
              "         'tv': 73,\n",
              "         'comput': 89,\n",
              "         'lifehack': 1,\n",
              "         'school': 29,\n",
              "         'serious': 39,\n",
              "         'afraid': 1,\n",
              "         'profit': 5,\n",
              "         'else’': 1,\n",
              "         'pocket': 9,\n",
              "         '“aren’t': 1,\n",
              "         'supported”': 1,\n",
              "         'po': 8,\n",
              "         'month': 55,\n",
              "         'good': 180,\n",
              "         'job': 75,\n",
              "         'actual': 34,\n",
              "         '£': 23,\n",
              "         'replac': 39,\n",
              "         'that': 45,\n",
              "         'still': 112,\n",
              "         'basic': 6,\n",
              "         'rt': 525,\n",
              "         'sloanlovescudi': 1,\n",
              "         'droid': 14,\n",
              "         'waitwhat': 1,\n",
              "         'doubl': 8,\n",
              "         'saw': 7,\n",
              "         'alyssa': 1,\n",
              "         'h': 9,\n",
              "         'cool': 134,\n",
              "         'pictur': 82,\n",
              "         'l': 12,\n",
              "         'cycl': 2,\n",
              "         'froot': 1,\n",
              "         'run': 44,\n",
              "         'beach': 50,\n",
              "         'sport': 23,\n",
              "         'tysonj': 1,\n",
              "         'bit': 21,\n",
              "         'hypocrit': 4,\n",
              "         'hashtag': 20,\n",
              "         'yet': 36,\n",
              "         'quiver': 1,\n",
              "         'anticip': 1,\n",
              "         'arriv': 47,\n",
              "         'gain': 311,\n",
              "         'everyon': 189,\n",
              "         'sougofollow': 165,\n",
              "         'ff': 102,\n",
              "         'isi': 1,\n",
              "         'geometri': 1,\n",
              "         'iphoneographi': 52,\n",
              "         'streetphotographi': 10,\n",
              "         'iphonephotographi': 14,\n",
              "         'mobilephotographi': 5,\n",
              "         'mobil': 111,\n",
              "         'bright': 16,\n",
              "         'user': 46,\n",
              "         'fettish': 1,\n",
              "         'techno': 2,\n",
              "         'indi': 2,\n",
              "         'date': 63,\n",
              "         'okcupid': 1,\n",
              "         'less': 25,\n",
              "         'random': 41,\n",
              "         'instamood': 90,\n",
              "         'loljk': 2,\n",
              "         'shine': 10,\n",
              "         'wine': 11,\n",
              "         'amaliexmaria': 1,\n",
              "         'copenhagen': 5,\n",
              "         'creativ': 19,\n",
              "         'compos': 5,\n",
              "         'denmark': 7,\n",
              "         'hot': 55,\n",
              "         'icon': 12,\n",
              "         'keepthefaith': 5,\n",
              "         'mariajensen': 5,\n",
              "         'origin': 16,\n",
              "         'pop': 28,\n",
              "         'red': 69,\n",
              "         'rock': 23,\n",
              "         'soul': 16,\n",
              "         'singer': 14,\n",
              "         'songwrit': 7,\n",
              "         'univers': 15,\n",
              "         'warnerpictwittercomgbeusyedm': 1,\n",
              "         'tescophoneshop': 1,\n",
              "         'wed': 28,\n",
              "         'dvd': 6,\n",
              "         'thought': 21,\n",
              "         'id': 42,\n",
              "         'lost': 56,\n",
              "         'meliiecandi': 1,\n",
              "         'ipadmini': 20,\n",
              "         'sold': 9,\n",
              "         'instamo': 9,\n",
              "         'planeteig': 1,\n",
              "         'feel': 71,\n",
              "         'broken': 38,\n",
              "         'pictwittercomygsukec': 1,\n",
              "         'light': 43,\n",
              "         'pleas': 48,\n",
              "         'lamp': 2,\n",
              "         'pekanbaru': 1,\n",
              "         'riau': 1,\n",
              "         'indonesia': 18,\n",
              "         'sonya…': 2,\n",
              "         'acquisit': 2,\n",
              "         'gold': 52,\n",
              "         'brussel': 3,\n",
              "         'potd': 11,\n",
              "         'picoftheday…': 4,\n",
              "         'reset': 17,\n",
              "         'sorri': 18,\n",
              "         'incept': 1,\n",
              "         'white': 115,\n",
              "         'tea': 12,\n",
              "         'chill': 32,\n",
              "         'carcasa': 1,\n",
              "         'cover': 71,\n",
              "         'para': 1,\n",
              "         'grandprim': 1,\n",
              "         'felizdomingo': 1,\n",
              "         'g': 52,\n",
              "         'felizlun': 1,\n",
              "         'felizsemana': 1,\n",
              "         'oct': 2,\n",
              "         'felizmartespictwittercomxtldsjwpz': 1,\n",
              "         'mighti': 3,\n",
              "         'mous': 9,\n",
              "         'came': 44,\n",
              "         'lithium': 2,\n",
              "         'aa': 5,\n",
              "         'magic': 20,\n",
              "         'come': 105,\n",
              "         'alkalin': 1,\n",
              "         'nyclesbian': 1,\n",
              "         'followsunday': 30,\n",
              "         'followback': 54,\n",
              "         'teamfollowback': 32,\n",
              "         'retweet': 90,\n",
              "         'ya': 46,\n",
              "         'thing': 116,\n",
              "         'i’m': 14,\n",
              "         'samsunguk': 5,\n",
              "         'i’v': 4,\n",
              "         'tumbl': 1,\n",
              "         'dryer': 1,\n",
              "         'it’': 19,\n",
              "         'alreadi': 41,\n",
              "         'problem': 45,\n",
              "         'occur': 2,\n",
              "         'iwant': 2,\n",
              "         'issu': 18,\n",
              "         'resolv': 1,\n",
              "         'abl': 16,\n",
              "         'return': 7,\n",
              "         'alexandraeton': 1,\n",
              "         'bbcwatchdog': 1,\n",
              "         'lilya': 1,\n",
              "         'asll': 1,\n",
              "         'sonya': 13,\n",
              "         'throwback': 2,\n",
              "         'shoot': 24,\n",
              "         'bluri': 1,\n",
              "         '…pictwittercombtewbkx': 1,\n",
              "         'cnet': 2,\n",
              "         'put': 53,\n",
              "         'absurd': 2,\n",
              "         'price': 23,\n",
              "         'devic': 42,\n",
              "         'commonwealth': 2,\n",
              "         'skye': 1,\n",
              "         'nicolson': 1,\n",
              "         'win': 43,\n",
              "         'box': 18,\n",
              "         'memori': 25,\n",
              "         'brother': 26,\n",
              "         '–': 24,\n",
              "         'adapt': 8,\n",
              "         'galatasaray': 1,\n",
              "         'iherbord': 1,\n",
              "         'presidenttrump': 1,\n",
              "         'oh': 54,\n",
              "         'comment': 8,\n",
              "         'lip': 12,\n",
              "         'getalif': 1,\n",
              "         'tecshit': 1,\n",
              "         'enjoy': 47,\n",
              "         'tombraid': 1,\n",
              "         'laracroft': 1,\n",
              "         'playstat': 76,\n",
              "         'gamer': 54,\n",
              "         'hunger': 3,\n",
              "         'simpson': 3,\n",
              "         'thehungergam': 1,\n",
              "         'someth': 32,\n",
              "         'wrong': 19,\n",
              "         'right': 80,\n",
              "         'today': 309,\n",
              "         'item': 7,\n",
              "         'jammieexoxo': 1,\n",
              "         'recommend': 5,\n",
              "         'earphon': 16,\n",
              "         'earpod': 6,\n",
              "         'lifestyl': 24,\n",
              "         'amazing…': 5,\n",
              "         'fuckyou': 75,\n",
              "         'never': 81,\n",
              "         'bug': 18,\n",
              "         'buck': 6,\n",
              "         'phonehow': 1,\n",
              "         'littl': 46,\n",
              "         'qualiti': 14,\n",
              "         'hereanotherangrycustom': 1,\n",
              "         'girlfriend': 12,\n",
              "         'gf': 3,\n",
              "         'bf': 7,\n",
              "         'card': 27,\n",
              "         'z': 28,\n",
              "         'soppi': 1,\n",
              "         'present': 68,\n",
              "         'mom': 36,\n",
              "         'macbookpro': 50,\n",
              "         'macbook': 105,\n",
              "         'stockholm': 3,\n",
              "         'sweden': 10,\n",
              "         'quot': 65,\n",
              "         'wisdom': 9,\n",
              "         'word': 44,\n",
              "         'tweetgram': 11,\n",
              "         'applaud': 1,\n",
              "         'sheffield': 1,\n",
              "         'great': 98,\n",
              "         'repair': 21,\n",
              "         'hour': 113,\n",
              "         'everyth': 75,\n",
              "         'due': 9,\n",
              "         'recoveri': 7,\n",
              "         'mode': 14,\n",
              "         'mashabl': 7,\n",
              "         'hater': 3,\n",
              "         'yousuck': 10,\n",
              "         'briantong': 1,\n",
              "         'easytotalk': 1,\n",
              "         'producesometh': 1,\n",
              "         'usa': 42,\n",
              "         'compani': 38,\n",
              "         'korean': 2,\n",
              "         'loser': 4,\n",
              "         'server': 5,\n",
              "         'dumb': 10,\n",
              "         'schedul': 3,\n",
              "         'mainten': 2,\n",
              "         'model': 40,\n",
              "         'byhilalak': 1,\n",
              "         'urbanear': 1,\n",
              "         'handmad': 7,\n",
              "         'hayatinarenkkat': 1,\n",
              "         'vicio': 3,\n",
              "         'nellyfurtado': 1,\n",
              "         'nelstar': 1,\n",
              "         'playingnow': 1,\n",
              "         'diva': 4,\n",
              "         'cd': 13,\n",
              "         'featur': 32,\n",
              "         'didnt': 47,\n",
              "         'yourtechcompani': 2,\n",
              "         'pictwittercomhsizay': 1,\n",
              "         'yey': 7,\n",
              "         'sonyxperiaz': 4,\n",
              "         'blessed…': 2,\n",
              "         'feliz': 4,\n",
              "         'sábado': 1,\n",
              "         'con': 9,\n",
              "         'café': 2,\n",
              "         'coffe': 37,\n",
              "         'pantri': 2,\n",
              "         'dreami': 1,\n",
              "         'effect': 12,\n",
              "         'straight': 4,\n",
              "         'impress': 10,\n",
              "         'spring': 33,\n",
              "         'blossom…': 1,\n",
              "         'finalllllli': 1,\n",
              "         'galaxynot': 32,\n",
              "         'awsom': 5,\n",
              "         'beamman': 1,\n",
              "         'best…': 1,\n",
              "         'special': 17,\n",
              "         'valentin': 52,\n",
              "         'nowplay': 13,\n",
              "         'daughter': 26,\n",
              "         'poem': 19,\n",
              "         'αγάπη': 3,\n",
              "         'eri': 6,\n",
              "         'pa': 5,\n",
              "         'car': 42,\n",
              "         'sign': 13,\n",
              "         'ilovey': 3,\n",
              "         'lunch': 11,\n",
              "         'park': 14,\n",
              "         'carrot': 6,\n",
              "         'banana': 16,\n",
              "         'autumn': 11,\n",
              "         'leaves…': 1,\n",
              "         'iphoneth': 2,\n",
              "         'confess': 3,\n",
              "         'spend': 16,\n",
              "         'faith': 9,\n",
              "         'sin': 2,\n",
              "         'much': 109,\n",
              "         'book': 62,\n",
              "         'flickr': 1,\n",
              "         'say': 109,\n",
              "         'u': 113,\n",
              "         'updateit': 2,\n",
              "         'took': 42,\n",
              "         'download': 101,\n",
              "         'westcoast': 1,\n",
              "         'huntington': 1,\n",
              "         'ad': 27,\n",
              "         'twitter': 87,\n",
              "         'directori': 1,\n",
              "         'newyorkni': 1,\n",
              "         'educ': 13,\n",
              "         'losin': 1,\n",
              "         'recept': 4,\n",
              "         'n': 19,\n",
              "         'miss': 52,\n",
              "         'last': 89,\n",
              "         'min': 19,\n",
              "         'tmobil': 20,\n",
              "         'jump': 9,\n",
              "         'rid': 14,\n",
              "         'absolut': 12,\n",
              "         'tast': 3,\n",
              "         'frank': 4,\n",
              "         'ocean’': 1,\n",
              "         'new…': 4,\n",
              "         'annoy': 38,\n",
              "         'finish': 7,\n",
              "         'level': 14,\n",
              "         'where': 3,\n",
              "         'buy': 124,\n",
              "         'full': 23,\n",
              "         'version': 27,\n",
              "         'wear': 5,\n",
              "         'import': 11,\n",
              "         'mood': 17,\n",
              "         'boss': 10,\n",
              "         'blog': 43,\n",
              "         'style': 93,\n",
              "         'wcw': 2,\n",
              "         'wce': 1,\n",
              "         'bestoftheday': 23,\n",
              "         'pretti': 72,\n",
              "         'babe': 14,\n",
              "         'wednesday': 8,\n",
              "         'funpictwittercomggnuvxbv': 1,\n",
              "         'natepgilbraith': 1,\n",
              "         'send': 33,\n",
              "         'turn': 43,\n",
              "         'imessag': 37,\n",
              "         'fanta': 3,\n",
              "         'delish': 1,\n",
              "         'sundayfunday': 3,\n",
              "         'heal': 1,\n",
              "         'so…': 1,\n",
              "         'sleep': 34,\n",
              "         'lap': 3,\n",
              "         'babygirl': 3,\n",
              "         'popular': 27,\n",
              "         'she’': 2,\n",
              "         'loverli': 1,\n",
              "         'tweet': 43,\n",
              "         'rabbitsofinstagram': 4,\n",
              "         'bunniesofinstagram': 4,\n",
              "         'rabbit': 6,\n",
              "         'hop': 8,\n",
              "         'bounc': 5,\n",
              "         'charli': 6,\n",
              "         'houserabbit': 4,\n",
              "         'bunnylov': 4,\n",
              "         'rabbitsofig': 4,\n",
              "         'shotoniphon': 23,\n",
              "         'photograph': 38,\n",
              "         'chuck': 6,\n",
              "         'charl': 2,\n",
              "         'pictwittercomgpwnfuzwh': 1,\n",
              "         'lucien': 1,\n",
              "         'swarovski': 2,\n",
              "         'crystal': 3,\n",
              "         'vegan': 7,\n",
              "         'glutenfre': 3,\n",
              "         'silli': 9,\n",
              "         'sally’': 1,\n",
              "         'diner': 3,\n",
              "         'sync': 36,\n",
              "         'hear': 9,\n",
              "         'second': 19,\n",
              "         'mmlp': 1,\n",
              "         'fml': 18,\n",
              "         'candi': 12,\n",
              "         'beati': 3,\n",
              "         'nice': 87,\n",
              "         'fo': 2,\n",
              "         'wait': 94,\n",
              "         'hand': 24,\n",
              "         'spacegray': 4,\n",
              "         'gb': 54,\n",
              "         'pictwittercomogogkeopw': 1,\n",
              "         'unpack': 1,\n",
              "         'compact': 2,\n",
              "         'first': 81,\n",
              "         'pictwittercomblobosu': 1,\n",
              "         'muoneoz': 2,\n",
              "         'progress': 6,\n",
              "         'bar': 13,\n",
              "         'key': 13,\n",
              "         'long': 34,\n",
              "         'cold': 14,\n",
              "         'boot': 11,\n",
              "         'fear': 4,\n",
              "         'itll': 5,\n",
              "         'siri': 45,\n",
              "         'doesnt': 69,\n",
              "         'understand': 4,\n",
              "         'command': 1,\n",
              "         'nephew': 5,\n",
              "         'allshot': 3,\n",
              "         'endless': 3,\n",
              "         'photoofthaday': 1,\n",
              "         'liter': 21,\n",
              "         'cri': 14,\n",
              "         'contact': 37,\n",
              "         'andyvaughan': 1,\n",
              "         'wonder': 29,\n",
              "         'avail': 42,\n",
              "         'b': 26,\n",
              "         'compar': 8,\n",
              "         '¡al': 1,\n",
              "         'fiiiiin': 1,\n",
              "         'laptop': 102,\n",
              "         'vaio': 17,\n",
              "         'minni': 2,\n",
              "         'inlove…': 1,\n",
              "         'blackberri': 58,\n",
              "         'occasion': 1,\n",
              "         'best': 136,\n",
              "         'fruit': 29,\n",
              "         'fall': 19,\n",
              "         'worri': 6,\n",
              "         'thou': 1,\n",
              "         'soon': 34,\n",
              "         'username：splinkio': 1,\n",
              "         'thai': 3,\n",
              "         'curri': 1,\n",
              "         'yum': 15,\n",
              "         'picoft': 1,\n",
              "         'yosemit': 7,\n",
              "         'steep': 1,\n",
              "         'hill': 5,\n",
              "         'climb': 3,\n",
              "         'mac': 164,\n",
              "         'kernel': 2,\n",
              "         'serv': 8,\n",
              "         'wellappl': 1,\n",
              "         'warn': 9,\n",
              "         'display': 14,\n",
              "         'upon': 4,\n",
              "         'brbrrylov': 1,\n",
              "         'shesh': 1,\n",
              "         'told': 13,\n",
              "         'stop': 46,\n",
              "         'mojo': 1,\n",
              "         'p': 38,\n",
              "         'three': 13,\n",
              "         'ship': 20,\n",
              "         'advertis': 10,\n",
              "         'gear': 25,\n",
              "         'vr': 8,\n",
              "         'well': 72,\n",
              "         'past': 19,\n",
              "         'sodepress': 1,\n",
              "         'samsunggalaxyftw': 1,\n",
              "         'jewish': 3,\n",
              "         'american': 7,\n",
              "         'singl': 31,\n",
              "         'paid': 7,\n",
              "         'membership': 1,\n",
              "         'capetownsup': 53,\n",
              "         'sup': 53,\n",
              "         'surf': 55,\n",
              "         'capetown': 58,\n",
              "         'pictwittercomozdxt': 1,\n",
              "         'pro': 46,\n",
              "         'trial': 6,\n",
              "         'aarrrggghhhh': 1,\n",
              "         'makingmylifesodifficultpictwittercomlzszgisb': 1,\n",
              "         'half': 19,\n",
              "         'el': 3,\n",
              "         'capitan': 1,\n",
              "         'mistak': 8,\n",
              "         'usefuckingtorr': 1,\n",
              "         'hooray': 1,\n",
              "         'stuff': 35,\n",
              "         'excit': 98,\n",
              "         'open': 20,\n",
              "         'now…': 3,\n",
              "         'mine': 53,\n",
              "         'spaz': 1,\n",
              "         'short': 5,\n",
              "         'constantli': 5,\n",
              "         'piss': 40,\n",
              "         'offici': 18,\n",
              "         'keyboard': 22,\n",
              "         'okay': 14,\n",
              "         'though': 23,\n",
              "         'deepeshalway': 1,\n",
              "         'ndtvgadget': 1,\n",
              "         'enough': 36,\n",
              "         'challeng': 4,\n",
              "         'juri': 3,\n",
              "         'decis': 8,\n",
              "         'simpl': 19,\n",
              "         'an': 1,\n",
              "         'golden': 6,\n",
              "         ...})"
            ]
          },
          "metadata": {},
          "execution_count": 31
        }
      ]
    },
    {
      "cell_type": "code",
      "source": [
        "print(len(data['tweet']))\n",
        "print(len(vocab))\n",
        "print(len(data))"
      ],
      "metadata": {
        "colab": {
          "base_uri": "https://localhost:8080/"
        },
        "id": "s641lg8N1bTF",
        "outputId": "a0fbb194-ce0a-4a33-958a-015ffbdfbba8"
      },
      "execution_count": null,
      "outputs": [
        {
          "output_type": "stream",
          "name": "stdout",
          "text": [
            "7920\n",
            "15902\n",
            "7920\n"
          ]
        }
      ]
    },
    {
      "cell_type": "markdown",
      "source": [
        "### No of uniq words are 15904. But no of data records are 7920. this can be overfitted coz no of features are higher than no of data sets"
      ],
      "metadata": {
        "id": "IeVRZWUbBBoY"
      }
    },
    {
      "cell_type": "code",
      "source": [
        "tokens=[key for key in vocab if vocab[key]>10]"
      ],
      "metadata": {
        "id": "JlmzrUl3Bb6r"
      },
      "execution_count": null,
      "outputs": []
    },
    {
      "cell_type": "code",
      "source": [
        "len(tokens)"
      ],
      "metadata": {
        "colab": {
          "base_uri": "https://localhost:8080/"
        },
        "id": "_8PRn2qsstyi",
        "outputId": "e7b11146-636a-42a0-8166-71f90eada511"
      },
      "execution_count": null,
      "outputs": [
        {
          "output_type": "execute_result",
          "data": {
            "text/plain": [
              "1146"
            ]
          },
          "metadata": {},
          "execution_count": 64
        }
      ]
    },
    {
      "cell_type": "code",
      "source": [
        "tokens"
      ],
      "metadata": {
        "id": "3HKMd0-hCBmB"
      },
      "execution_count": null,
      "outputs": []
    },
    {
      "cell_type": "code",
      "source": [],
      "metadata": {
        "id": "zeFDmz9ACP7Q"
      },
      "execution_count": null,
      "outputs": []
    },
    {
      "cell_type": "markdown",
      "source": [
        "## devide dataset"
      ],
      "metadata": {
        "id": "oNEG9K0_DH3P"
      }
    },
    {
      "cell_type": "code",
      "source": [
        "X=data['tweet']\n",
        "y=data['label']"
      ],
      "metadata": {
        "id": "xFD7cNdRDKpC"
      },
      "execution_count": null,
      "outputs": []
    },
    {
      "cell_type": "code",
      "source": [
        "from sklearn.model_selection import train_test_split\n",
        "X_train,X_test,y_train,y_test=train_test_split(X,y,test_size=0.2)"
      ],
      "metadata": {
        "id": "k3W-ikA6DTuE"
      },
      "execution_count": null,
      "outputs": []
    },
    {
      "cell_type": "markdown",
      "source": [
        "## Vectorization"
      ],
      "metadata": {
        "id": "WtzOs16gE4Ae"
      }
    },
    {
      "cell_type": "code",
      "source": [
        "def vec(ds,vocabulary):\n",
        "  vectorized_list=[]\n",
        "\n",
        "  for sentence in ds:\n",
        "    sentence_list=np.zeros(len(vocabulary))\n",
        "\n",
        "    for i in range(len(vocabulary)):\n",
        "      if vocabulary[i] in sentence.split():\n",
        "        sentence_list[i]=1\n",
        "\n",
        "    vectorized_list.append(sentence_list)\n",
        "\n",
        "  vectorized_list_new=np.asarray(vectorized_list,dtype=np.float32)\n",
        "\n",
        "  return vectorized_list"
      ],
      "metadata": {
        "id": "LwpkfJswDU4X"
      },
      "execution_count": null,
      "outputs": []
    },
    {
      "cell_type": "code",
      "source": [
        "vectorized_X_train=vec(X_train,tokens)"
      ],
      "metadata": {
        "id": "lGqSmv3qF8ri"
      },
      "execution_count": null,
      "outputs": []
    },
    {
      "cell_type": "code",
      "source": [
        "len(tokens)"
      ],
      "metadata": {
        "colab": {
          "base_uri": "https://localhost:8080/"
        },
        "id": "7FyC8mZbrdtf",
        "outputId": "df9e6b85-33ea-47fc-bac0-d379d65784e0"
      },
      "execution_count": null,
      "outputs": [
        {
          "output_type": "execute_result",
          "data": {
            "text/plain": [
              "1146"
            ]
          },
          "metadata": {},
          "execution_count": 40
        }
      ]
    },
    {
      "cell_type": "code",
      "source": [
        "# vectorized_X_train"
      ],
      "metadata": {
        "id": "rRatSYX1G32_"
      },
      "execution_count": null,
      "outputs": []
    },
    {
      "cell_type": "code",
      "source": [
        "vectorized_X_test=vec(X_test,tokens)"
      ],
      "metadata": {
        "id": "KiWF4-oGG-kH"
      },
      "execution_count": null,
      "outputs": []
    },
    {
      "cell_type": "code",
      "source": [
        "# vectorized_X_test"
      ],
      "metadata": {
        "id": "JUpSOcThHPEK"
      },
      "execution_count": null,
      "outputs": []
    },
    {
      "cell_type": "markdown",
      "source": [
        "check  the dataset is imbalanced or not"
      ],
      "metadata": {
        "id": "cGrRSDOyHlWA"
      }
    },
    {
      "cell_type": "code",
      "source": [
        "y_train.value_counts()"
      ],
      "metadata": {
        "colab": {
          "base_uri": "https://localhost:8080/"
        },
        "id": "6lUQvxjtHqYP",
        "outputId": "1203012e-1f93-479c-c21b-357641e05d0d"
      },
      "execution_count": null,
      "outputs": [
        {
          "output_type": "execute_result",
          "data": {
            "text/plain": [
              "0    4699\n",
              "1    1637\n",
              "Name: label, dtype: int64"
            ]
          },
          "metadata": {},
          "execution_count": 44
        }
      ]
    },
    {
      "cell_type": "code",
      "source": [
        "plt.pie(np.array([y_train.value_counts()[0],y_train.value_counts()[1]]),labels=['positive','negative'])\n",
        "plt.show()"
      ],
      "metadata": {
        "colab": {
          "base_uri": "https://localhost:8080/",
          "height": 406
        },
        "id": "vW82-nMCIMmv",
        "outputId": "bdc2cd48-637e-47c4-f610-95b40e7508ad"
      },
      "execution_count": null,
      "outputs": [
        {
          "output_type": "display_data",
          "data": {
            "text/plain": [
              "<Figure size 640x480 with 1 Axes>"
            ],
            "image/png": "[encoded data removed]"
          },
          "metadata": {}
        }
      ]
    },
    {
      "cell_type": "markdown",
      "source": [
        "## this is a imbalance dataset. to overcome this use SMOTE techniqe*italicized text*"
      ],
      "metadata": {
        "id": "Y4ejh-FzH2I0"
      }
    },
    {
      "cell_type": "code",
      "source": [
        "from imblearn.over_sampling import SMOTE\n",
        "smote = SMOTE()\n",
        "vectorized_x_train_smote, vectorized_y_train_smote = smote.fit_resample(vectorized_X_train, y_train)\n",
        "\n",
        "vectorized_x_train_smote1 = np.array(vectorized_x_train_smote)\n",
        "vectorized_y_train_smote1 = np.array(vectorized_y_train_smote)\n",
        "\n",
        "print(vectorized_x_train_smote1.shape)\n",
        "print(vectorized_y_train_smote1.shape)"
      ],
      "metadata": {
        "colab": {
          "base_uri": "https://localhost:8080/"
        },
        "id": "rg4SojI8Iyy6",
        "outputId": "57bd5753-9990-4ff0-93b0-162de0c2d94c"
      },
      "execution_count": null,
      "outputs": [
        {
          "output_type": "stream",
          "name": "stdout",
          "text": [
            "(9398, 1146)\n",
            "(9398,)\n"
          ]
        }
      ]
    },
    {
      "cell_type": "code",
      "source": [
        "vectorized_y_train_smote.value_counts()"
      ],
      "metadata": {
        "colab": {
          "base_uri": "https://localhost:8080/"
        },
        "id": "b30o_6pdJyhj",
        "outputId": "6d6492d8-4907-471d-c045-c7e1ca94e95e"
      },
      "execution_count": null,
      "outputs": [
        {
          "output_type": "execute_result",
          "data": {
            "text/plain": [
              "0    4699\n",
              "1    4699\n",
              "Name: label, dtype: int64"
            ]
          },
          "metadata": {},
          "execution_count": 47
        }
      ]
    },
    {
      "cell_type": "code",
      "source": [
        "plt.pie(np.array([vectorized_y_train_smote.value_counts()[0],vectorized_y_train_smote.value_counts()[1]]),labels=['positive','negative'])\n",
        "plt.show()"
      ],
      "metadata": {
        "colab": {
          "base_uri": "https://localhost:8080/",
          "height": 406
        },
        "id": "iu3r6iW3M02x",
        "outputId": "3634394a-3865-4c8b-896b-2c00f0a0590c"
      },
      "execution_count": null,
      "outputs": [
        {
          "output_type": "display_data",
          "data": {
            "text/plain": [
              "<Figure size 640x480 with 1 Axes>"
            ],
            "image/png": "[encoded data removed]"
          },
          "metadata": {}
        }
      ]
    },
    {
      "cell_type": "markdown",
      "source": [
        "## Model training and evaluation"
      ],
      "metadata": {
        "id": "a9v2-KF8buD3"
      }
    },
    {
      "cell_type": "code",
      "source": [
        "from sklearn.linear_model import LogisticRegression\n",
        "from sklearn.naive_bayes import MultinomialNB\n",
        "from sklearn.tree import DecisionTreeClassifier\n",
        "from sklearn.ensemble import RandomForestClassifier\n",
        "from sklearn.svm import SVC"
      ],
      "metadata": {
        "id": "7oNI1aneOznS"
      },
      "execution_count": null,
      "outputs": []
    },
    {
      "cell_type": "code",
      "source": [
        "from sklearn.metrics import accuracy_score,f1_score, precision_score,recall_score\n",
        "\n",
        "def training_score(y_act,y_pred):\n",
        "  acc=round(accuracy_score(y_act,y_pred),3)\n",
        "  pr=round(precision_score(y_act,y_pred),3)\n",
        "  rec=round(recall_score(y_act,y_pred),3)\n",
        "  f1=round(f1_score(y_act,y_pred),3)\n",
        "  print(f'training score:\\n\\nAccuracy={acc}\\n\\nPrecision={pr}\\n\\nrecall={rec}\\n\\nf1_score={f1}')\n",
        "\n",
        "def test_score(y_act,y_pred):\n",
        "  acc=round(accuracy_score(y_act,y_pred),3)\n",
        "  pr=round(precision_score(y_act,y_pred),3)\n",
        "  rec=round(recall_score(y_act,y_pred),3)\n",
        "  f1=round(f1_score(y_act,y_pred),3)\n",
        "  print(f'test score:\\n\\nAccuracy={acc}\\n\\nPrecision={pr}\\n\\nrecall={rec}\\n\\nf1_score={f1}')"
      ],
      "metadata": {
        "id": "JXFTAjOudJHL"
      },
      "execution_count": null,
      "outputs": []
    },
    {
      "cell_type": "markdown",
      "source": [
        "## Logistic regression"
      ],
      "metadata": {
        "id": "-vhgey8SfWYs"
      }
    },
    {
      "cell_type": "code",
      "source": [
        "lr=LogisticRegression()\n",
        "lr.fit(vectorized_x_train_smote1,vectorized_y_train_smote1)"
      ],
      "metadata": {
        "colab": {
          "base_uri": "https://localhost:8080/",
          "height": 75
        },
        "id": "FQ_UseV0fRaH",
        "outputId": "527303ed-b227-40b1-d437-cc4c5bfaa51e"
      },
      "execution_count": null,
      "outputs": [
        {
          "output_type": "execute_result",
          "data": {
            "text/plain": [
              "LogisticRegression()"
            ],
            "text/html": [
              "<style>#sk-container-id-1 {color: black;background-color: white;}#sk-container-id-1 pre{padding: 0;}#sk-container-id-1 div.sk-toggleable {background-color: white;}#sk-container-id-1 label.sk-toggleable__label {cursor: pointer;display: block;width: 100%;margin-bottom: 0;padding: 0.3em;box-sizing: border-box;text-align: center;}#sk-container-id-1 label.sk-toggleable__label-arrow:before {content: \"▸\";float: left;margin-right: 0.25em;color: #696969;}#sk-container-id-1 label.sk-toggleable__label-arrow:hover:before {color: black;}#sk-container-id-1 div.sk-estimator:hover label.sk-toggleable__label-arrow:before {color: black;}#sk-container-id-1 div.sk-toggleable__content {max-height: 0;max-width: 0;overflow: hidden;text-align: left;background-color: #f0f8ff;}#sk-container-id-1 div.sk-toggleable__content pre {margin: 0.2em;color: black;border-radius: 0.25em;background-color: #f0f8ff;}#sk-container-id-1 input.sk-toggleable__control:checked~div.sk-toggleable__content {max-height: 200px;max-width: 100%;overflow: auto;}#sk-container-id-1 input.sk-toggleable__control:checked~label.sk-toggleable__label-arrow:before {content: \"▾\";}#sk-container-id-1 div.sk-estimator input.sk-toggleable__control:checked~label.sk-toggleable__label {background-color: #d4ebff;}#sk-container-id-1 div.sk-label input.sk-toggleable__control:checked~label.sk-toggleable__label {background-color: #d4ebff;}#sk-container-id-1 input.sk-hidden--visually {border: 0;clip: rect(1px 1px 1px 1px);clip: rect(1px, 1px, 1px, 1px);height: 1px;margin: -1px;overflow: hidden;padding: 0;position: absolute;width: 1px;}#sk-container-id-1 div.sk-estimator {font-family: monospace;background-color: #f0f8ff;border: 1px dotted black;border-radius: 0.25em;box-sizing: border-box;margin-bottom: 0.5em;}#sk-container-id-1 div.sk-estimator:hover {background-color: #d4ebff;}#sk-container-id-1 div.sk-parallel-item::after {content: \"\";width: 100%;border-bottom: 1px solid gray;flex-grow: 1;}#sk-container-id-1 div.sk-label:hover label.sk-toggleable__label {background-color: #d4ebff;}#sk-container-id-1 div.sk-serial::before {content: \"\";position: absolute;border-left: 1px solid gray;box-sizing: border-box;top: 0;bottom: 0;left: 50%;z-index: 0;}#sk-container-id-1 div.sk-serial {display: flex;flex-direction: column;align-items: center;background-color: white;padding-right: 0.2em;padding-left: 0.2em;position: relative;}#sk-container-id-1 div.sk-item {position: relative;z-index: 1;}#sk-container-id-1 div.sk-parallel {display: flex;align-items: stretch;justify-content: center;background-color: white;position: relative;}#sk-container-id-1 div.sk-item::before, #sk-container-id-1 div.sk-parallel-item::before {content: \"\";position: absolute;border-left: 1px solid gray;box-sizing: border-box;top: 0;bottom: 0;left: 50%;z-index: -1;}#sk-container-id-1 div.sk-parallel-item {display: flex;flex-direction: column;z-index: 1;position: relative;background-color: white;}#sk-container-id-1 div.sk-parallel-item:first-child::after {align-self: flex-end;width: 50%;}#sk-container-id-1 div.sk-parallel-item:last-child::after {align-self: flex-start;width: 50%;}#sk-container-id-1 div.sk-parallel-item:only-child::after {width: 0;}#sk-container-id-1 div.sk-dashed-wrapped {border: 1px dashed gray;margin: 0 0.4em 0.5em 0.4em;box-sizing: border-box;padding-bottom: 0.4em;background-color: white;}#sk-container-id-1 div.sk-label label {font-family: monospace;font-weight: bold;display: inline-block;line-height: 1.2em;}#sk-container-id-1 div.sk-label-container {text-align: center;}#sk-container-id-1 div.sk-container {/* jupyter's `normalize.less` sets `[hidden] { display: none; }` but bootstrap.min.css set `[hidden] { display: none !important; }` so we also need the `!important` here to be able to override the default hidden behavior on the sphinx rendered scikit-learn.org. See: https://github.com/scikit-learn/scikit-learn/issues/21755 */display: inline-block !important;position: relative;}#sk-container-id-1 div.sk-text-repr-fallback {display: none;}</style><div id=\"sk-container-id-1\" class=\"sk-top-container\"><div class=\"sk-text-repr-fallback\"><pre>LogisticRegression()</pre><b>In a Jupyter environment, please rerun this cell to show the HTML representation or trust the notebook. <br />On GitHub, the HTML representation is unable to render, please try loading this page with nbviewer.org.</b></div><div class=\"sk-container\" hidden><div class=\"sk-item\"><div class=\"sk-estimator sk-toggleable\"><input class=\"sk-toggleable__control sk-hidden--visually\" id=\"sk-estimator-id-1\" type=\"checkbox\" checked><label for=\"sk-estimator-id-1\" class=\"sk-toggleable__label sk-toggleable__label-arrow\">LogisticRegression</label><div class=\"sk-toggleable__content\"><pre>LogisticRegression()</pre></div></div></div></div></div>"
            ]
          },
          "metadata": {},
          "execution_count": 51
        }
      ]
    },
    {
      "cell_type": "code",
      "source": [
        "y_train_pred=lr.predict(vectorized_x_train_smote1)\n",
        "y_train_pred"
      ],
      "metadata": {
        "colab": {
          "base_uri": "https://localhost:8080/"
        },
        "id": "NHyUOibdgdgK",
        "outputId": "c0e9309c-537e-4770-eb76-c17375c547bf"
      },
      "execution_count": null,
      "outputs": [
        {
          "output_type": "execute_result",
          "data": {
            "text/plain": [
              "array([0, 0, 0, ..., 1, 1, 1])"
            ]
          },
          "metadata": {},
          "execution_count": 52
        }
      ]
    },
    {
      "cell_type": "code",
      "source": [
        "vectorized_y_train_smote1"
      ],
      "metadata": {
        "colab": {
          "base_uri": "https://localhost:8080/"
        },
        "id": "6s84HruShLs-",
        "outputId": "8137a146-ec29-4eb3-8c50-8cd4cad66433"
      },
      "execution_count": null,
      "outputs": [
        {
          "output_type": "execute_result",
          "data": {
            "text/plain": [
              "array([0, 0, 0, ..., 1, 1, 1])"
            ]
          },
          "metadata": {},
          "execution_count": 53
        }
      ]
    },
    {
      "cell_type": "code",
      "source": [
        "training_score(vectorized_y_train_smote1,y_train_pred)"
      ],
      "metadata": {
        "colab": {
          "base_uri": "https://localhost:8080/"
        },
        "id": "A6Winxoeh0iF",
        "outputId": "ee83e701-8a7e-48b5-b1e6-7d8124712234"
      },
      "execution_count": null,
      "outputs": [
        {
          "output_type": "stream",
          "name": "stdout",
          "text": [
            "training score:\n",
            "\n",
            "Accuracy=0.941\n",
            "\n",
            "Precision=0.918\n",
            "\n",
            "recall=0.967\n",
            "\n",
            "f1_score=0.942\n"
          ]
        }
      ]
    },
    {
      "cell_type": "markdown",
      "source": [
        "## for test data"
      ],
      "metadata": {
        "id": "MLnXKw83xEIC"
      }
    },
    {
      "cell_type": "code",
      "source": [
        "y_test_pred=lr.predict(vectorized_X_test)\n",
        "y_test_pred"
      ],
      "metadata": {
        "colab": {
          "base_uri": "https://localhost:8080/"
        },
        "id": "Wgwv_XBNiFlc",
        "outputId": "a718329b-683c-4db6-f0b5-c2617547f505"
      },
      "execution_count": null,
      "outputs": [
        {
          "output_type": "execute_result",
          "data": {
            "text/plain": [
              "array([0, 0, 1, ..., 0, 0, 1])"
            ]
          },
          "metadata": {},
          "execution_count": 55
        }
      ]
    },
    {
      "cell_type": "code",
      "source": [
        "y_test"
      ],
      "metadata": {
        "colab": {
          "base_uri": "https://localhost:8080/"
        },
        "id": "dhKhhKw0yFQM",
        "outputId": "78933ce2-4d62-41e1-dda8-c283d5ee54b4"
      },
      "execution_count": null,
      "outputs": [
        {
          "output_type": "execute_result",
          "data": {
            "text/plain": [
              "1831    0\n",
              "972     0\n",
              "5158    1\n",
              "742     0\n",
              "332     0\n",
              "       ..\n",
              "1360    0\n",
              "2673    0\n",
              "245     0\n",
              "6076    0\n",
              "3957    0\n",
              "Name: label, Length: 1584, dtype: int64"
            ]
          },
          "metadata": {},
          "execution_count": 56
        }
      ]
    },
    {
      "cell_type": "code",
      "source": [
        "test_score(y_test,y_test_pred)"
      ],
      "metadata": {
        "colab": {
          "base_uri": "https://localhost:8080/"
        },
        "id": "DadER2udzKHD",
        "outputId": "955352ba-16c6-4a21-ab2a-1772be3e5635"
      },
      "execution_count": null,
      "outputs": [
        {
          "output_type": "stream",
          "name": "stdout",
          "text": [
            "test score:\n",
            "\n",
            "Accuracy=0.86\n",
            "\n",
            "Precision=0.671\n",
            "\n",
            "recall=0.846\n",
            "\n",
            "f1_score=0.749\n"
          ]
        }
      ]
    },
    {
      "cell_type": "markdown",
      "source": [
        "## Naive Bayes"
      ],
      "metadata": {
        "id": "23IWJhct0fh1"
      }
    },
    {
      "cell_type": "code",
      "source": [
        "MNB=MultinomialNB()\n",
        "MNB.fit(vectorized_x_train_smote1,vectorized_y_train_smote1)\n",
        "\n",
        "y_train_pred=MNB.predict(vectorized_x_train_smote1)\n",
        "\n",
        "y_test_pred=MNB.predict(vectorized_X_test)\n",
        "\n",
        "training_score(vectorized_y_train_smote1,y_train_pred)\n",
        "\n",
        "test_score(y_test,y_test_pred)"
      ],
      "metadata": {
        "colab": {
          "base_uri": "https://localhost:8080/"
        },
        "id": "X2r6DV4hzcmL",
        "outputId": "bfbaf60b-6e06-49fe-a099-d8c91f74fc79"
      },
      "execution_count": null,
      "outputs": [
        {
          "output_type": "stream",
          "name": "stdout",
          "text": [
            "training score:\n",
            "\n",
            "Accuracy=0.91\n",
            "\n",
            "Precision=0.872\n",
            "\n",
            "recall=0.961\n",
            "\n",
            "f1_score=0.914\n",
            "test score:\n",
            "\n",
            "Accuracy=0.857\n",
            "\n",
            "Precision=0.647\n",
            "\n",
            "recall=0.915\n",
            "\n",
            "f1_score=0.758\n"
          ]
        }
      ]
    },
    {
      "cell_type": "markdown",
      "source": [
        "# Desicion Tree"
      ],
      "metadata": {
        "id": "KBnzGY0R5t3q"
      }
    },
    {
      "cell_type": "code",
      "source": [
        "dt=DecisionTreeClassifier()\n",
        "dt.fit(vectorized_x_train_smote1,vectorized_y_train_smote1)\n",
        "\n",
        "y_train_pred=dt.predict(vectorized_x_train_smote1)\n",
        "\n",
        "y_test_pred=dt.predict(vectorized_X_test)\n",
        "\n",
        "training_score(vectorized_y_train_smote1,y_train_pred)\n",
        "\n",
        "test_score(y_test,y_test_pred)"
      ],
      "metadata": {
        "colab": {
          "base_uri": "https://localhost:8080/"
        },
        "id": "2Q34JF781jiE",
        "outputId": "d60a6aa7-98ff-493b-af02-7793aa40d5e0"
      },
      "execution_count": null,
      "outputs": [
        {
          "output_type": "stream",
          "name": "stdout",
          "text": [
            "training score:\n",
            "\n",
            "Accuracy=1.0\n",
            "\n",
            "Precision=1.0\n",
            "\n",
            "recall=1.0\n",
            "\n",
            "f1_score=1.0\n",
            "test score:\n",
            "\n",
            "Accuracy=0.827\n",
            "\n",
            "Precision=0.644\n",
            "\n",
            "recall=0.661\n",
            "\n",
            "f1_score=0.652\n"
          ]
        }
      ]
    },
    {
      "cell_type": "markdown",
      "source": [
        "## Random Forest"
      ],
      "metadata": {
        "id": "eYbhGNiW6Oav"
      }
    },
    {
      "cell_type": "code",
      "source": [
        "rf=RandomForestClassifier()\n",
        "rf.fit(vectorized_x_train_smote1,vectorized_y_train_smote1)\n",
        "\n",
        "y_train_pred=rf.predict(vectorized_x_train_smote1)\n",
        "\n",
        "y_test_pred=rf.predict(vectorized_X_test)\n",
        "\n",
        "training_score(vectorized_y_train_smote1,y_train_pred)\n",
        "\n",
        "test_score(y_test,y_test_pred)"
      ],
      "metadata": {
        "colab": {
          "base_uri": "https://localhost:8080/"
        },
        "id": "o_cikggC6Dab",
        "outputId": "0325b25b-50f7-4c2c-bb58-5af67e63c180"
      },
      "execution_count": null,
      "outputs": [
        {
          "output_type": "stream",
          "name": "stdout",
          "text": [
            "training score:\n",
            "\n",
            "Accuracy=1.0\n",
            "\n",
            "Precision=1.0\n",
            "\n",
            "recall=1.0\n",
            "\n",
            "f1_score=1.0\n",
            "test score:\n",
            "\n",
            "Accuracy=0.878\n",
            "\n",
            "Precision=0.751\n",
            "\n",
            "recall=0.753\n",
            "\n",
            "f1_score=0.752\n"
          ]
        }
      ]
    },
    {
      "cell_type": "markdown",
      "source": [
        "## SVM"
      ],
      "metadata": {
        "id": "yPj1mrKr6p04"
      }
    },
    {
      "cell_type": "code",
      "source": [
        "svc=SVC()\n",
        "svc.fit(vectorized_x_train_smote1,vectorized_y_train_smote1)\n",
        "\n",
        "y_train_pred=svc.predict(vectorized_x_train_smote1)\n",
        "\n",
        "y_test_pred=svc.predict(vectorized_X_test)\n",
        "\n",
        "training_score(vectorized_y_train_smote1,y_train_pred)\n",
        "\n",
        "test_score(y_test,y_test_pred)"
      ],
      "metadata": {
        "colab": {
          "base_uri": "https://localhost:8080/"
        },
        "id": "_wSvrn5X6dHk",
        "outputId": "f41119d5-b09c-4398-b5cf-b6fbfdc301b2"
      },
      "execution_count": null,
      "outputs": [
        {
          "output_type": "stream",
          "name": "stdout",
          "text": [
            "training score:\n",
            "\n",
            "Accuracy=0.978\n",
            "\n",
            "Precision=0.962\n",
            "\n",
            "recall=0.995\n",
            "\n",
            "f1_score=0.978\n",
            "test score:\n",
            "\n",
            "Accuracy=0.871\n",
            "\n",
            "Precision=0.71\n",
            "\n",
            "recall=0.805\n",
            "\n",
            "f1_score=0.754\n"
          ]
        }
      ]
    },
    {
      "cell_type": "code",
      "source": [
        "import os\n",
        "\n",
        "# List the contents of the /content/ directory\n",
        "contents = os.listdir('/content/')\n",
        "print(contents)\n"
      ],
      "metadata": {
        "colab": {
          "base_uri": "https://localhost:8080/"
        },
        "id": "qiuBsaCt6zQV",
        "outputId": "f8f22af0-b7c1-49a4-8cd1-123f984cd655"
      },
      "execution_count": null,
      "outputs": [
        {
          "output_type": "stream",
          "name": "stdout",
          "text": [
            "['.config', 'drive', 'sentiment_model_lr.pickle', 'sample_data']\n"
          ]
        }
      ]
    },
    {
      "cell_type": "code",
      "source": [
        "import pickle\n",
        "\n",
        "# Save the model as a pickle file\n",
        "# Specify the path to save the pickle file in Google Colab\n",
        "\n",
        "file_path = '/content/drive/MyDrive/sentiment_model_lr.pickle'\n",
        "\n",
        "with open(file_path, 'wb') as f:\n",
        "    pickle.dump(lr, f)"
      ],
      "metadata": {
        "id": "9pz6wimMAduj"
      },
      "execution_count": null,
      "outputs": []
    }
  ]
}